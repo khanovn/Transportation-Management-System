{
  "cells": [
    {
      "cell_type": "markdown",
      "metadata": {
        "id": "ASHU4fDeP1kI"
      },
      "source": [
        "# 05-DARS. STRING (MATN)\n",
        "STRING ma'lumot turi va uning ustida amallar"
      ]
    },
    {
      "cell_type": "markdown",
      "metadata": {
        "id": "ynZE5dUcP1kL"
      },
      "source": [
        "![](https://gblobscdn.gitbook.com/assets%2F-MGbkqs1tROquIT6oqUs%2F-Mc-5yGQPZTBaGoehQdL%2F-Mc-7xpq4Puu3KEjmT0R%2FSD_YT_TG_logo_mini.png?alt=media&token=929fe67b-ec12-4f63-b33e-e9c5e3d8ad09)\n",
        "\n",
        "#  STRING VA UNICODE"
      ]
    },
    {
      "cell_type": "markdown",
      "metadata": {
        "id": "diGFX_UjP1kM"
      },
      "source": [
        "**STRING** (matn) — Pythondagi eng mashxur ma'lumot turlaridan biri. Avvalgi darsda ko'rganimizdek, o'zgaruvchiga matn yuklash uchun matn qo'shtirnoq (`\" \"`) yoki birtirnoq (`' '`) ichida yozilishi kerak."
      ]
    },
    {
      "cell_type": "code",
      "execution_count": null,
      "metadata": {
        "id": "lCg98wwvP1kN"
      },
      "outputs": [],
      "source": [
        "shahar = \"Қўқон\"\n",
        "viloyat = 'Фарғона'"
      ]
    },
    {
      "cell_type": "markdown",
      "metadata": {
        "id": "PI-3qm6-P1kP"
      },
      "source": [
        "Pythonda matnlar [Unicode](https://unicode-table.com/en/) jadvalidagi istalgan belgilaridan iborat bo'lishi mumkin (jumladan o'zbek, arab, hind, xitoy alifbosidagi harflar yoki turli emoji-smayliklar)."
      ]
    },
    {
      "cell_type": "code",
      "execution_count": null,
      "metadata": {
        "scrolled": true,
        "id": "UyEwyp1MP1kQ",
        "outputId": "cd7e0f42-55a2-49ed-c2a3-3919712d753d"
      },
      "outputs": [
        {
          "name": "stdout",
          "output_type": "stream",
          "text": [
            "Men yangi 📱 oldim\n"
          ]
        }
      ],
      "source": [
        "matn = \"Men yangi 📱 oldim\"\n",
        "print(matn)"
      ]
    },
    {
      "cell_type": "markdown",
      "metadata": {
        "id": "E3G2yoq5P1kR"
      },
      "source": [
        "![Unicode jadval](https://gblobscdn.gitbook.com/assets%2F-MGbkqs1tROquIT6oqUs%2F-MLjUEbNQbWqMBCY1uql%2F-MLjVgUODxYRloFHWptm%2Fimage.png?alt=media&token=6e6eaef4-4958-479f-9622-523110678e8c)"
      ]
    },
    {
      "cell_type": "markdown",
      "metadata": {
        "id": "MQsO6Y-kP1kS"
      },
      "source": [
        "# STRING USTIDA AMALLAR"
      ]
    },
    {
      "cell_type": "markdown",
      "metadata": {
        "id": "hWFtx7yfP1kS"
      },
      "source": [
        "## Matnlarni qo'shish operatori (+)"
      ]
    },
    {
      "cell_type": "markdown",
      "metadata": {
        "id": "fJs-6pOeP1kS"
      },
      "source": [
        "Matnlarni qo'shish uchun + operatoridan foydalanmiz:"
      ]
    },
    {
      "cell_type": "code",
      "execution_count": null,
      "metadata": {
        "id": "eqkeXqrbP1kT",
        "outputId": "5c6c7bd5-cf17-440b-8a8c-9a1c6177681b"
      },
      "outputs": [
        {
          "name": "stdout",
          "output_type": "stream",
          "text": [
            "Mening ismim Ahmad\n"
          ]
        }
      ],
      "source": [
        "ism = 'Ahmad'\n",
        "print(\"Mening ismim \" + ism)"
      ]
    },
    {
      "cell_type": "code",
      "execution_count": null,
      "metadata": {
        "scrolled": true,
        "id": "cDqoDccjP1kT",
        "outputId": "634954de-ede2-45d9-a2c3-9263ee2b577d"
      },
      "outputs": [
        {
          "name": "stdout",
          "output_type": "stream",
          "text": [
            "AhadQayum\n"
          ]
        }
      ],
      "source": [
        "ism = 'Ahad'\n",
        "familiya = 'Qayum'\n",
        "print(ism + familiya)"
      ]
    },
    {
      "cell_type": "markdown",
      "metadata": {
        "id": "9NrjLfqDP1kT"
      },
      "source": [
        "Yuqoridagi kodda ism va familiya orasiga bo'shliq belgisini qo'shmaganimiz uchun ikki matn qo'shilib yozildi. Buni to'g'rilash uchun, 3-qatorni quyidagicha yozamiz:"
      ]
    },
    {
      "cell_type": "code",
      "execution_count": null,
      "metadata": {
        "id": "4-qXeZgpP1kT",
        "outputId": "1c8092d5-4790-4a9f-c3a9-26a0521808c3"
      },
      "outputs": [
        {
          "name": "stdout",
          "output_type": "stream",
          "text": [
            "Ahad Qayum\n"
          ]
        }
      ],
      "source": [
        "ism = 'Ahad'\n",
        "familiya = 'Qayum'\n",
        "print(ism + ' ' + familiya) # ikki o'zgaruvchi orasiga bo'sh joy qo'shamiz"
      ]
    },
    {
      "cell_type": "markdown",
      "metadata": {
        "id": "P9tH7B-uP1kT"
      },
      "source": [
        "## f-string"
      ]
    },
    {
      "cell_type": "markdown",
      "metadata": {
        "id": "rKv3WldCP1kT"
      },
      "source": [
        "Ikki (va undan ko'p) matn ko'rinishidagi o'zgaruvchilarni birlashtirish uchun f-string usulidan  `f\"{matn1} {matn2}\"` ham foydalansak bo'ladi:"
      ]
    },
    {
      "cell_type": "code",
      "execution_count": null,
      "metadata": {
        "id": "-U-FUkK7P1kT",
        "outputId": "70676952-4912-468c-ab80-eddbf54aaf59"
      },
      "outputs": [
        {
          "name": "stdout",
          "output_type": "stream",
          "text": [
            "Ahad Qayum\n"
          ]
        }
      ],
      "source": [
        "ism = \"Ahad\"\n",
        "familiya = 'Qayum'\n",
        "ism_sharif = f\"{ism} {familiya}\"\n",
        "print(ism_sharif)"
      ]
    },
    {
      "cell_type": "markdown",
      "metadata": {
        "id": "KxcF1qbIP1kT"
      },
      "source": [
        "Bu usul yordamida uzun matnlarni ham yasash mumkin:"
      ]
    },
    {
      "cell_type": "code",
      "execution_count": null,
      "metadata": {
        "id": "w8-sgVYWP1kU",
        "outputId": "3ee353af-cd36-49b8-b9bb-5def5efae0f3"
      },
      "outputs": [
        {
          "name": "stdout",
          "output_type": "stream",
          "text": [
            "Salom, mening ismim Bond. James Bond!\n"
          ]
        }
      ],
      "source": [
        "ism = \"James\"\n",
        "familiya = 'Bond'\n",
        "print(f\"Salom, mening ismim {familiya}. {ism} {familiya}!\")"
      ]
    },
    {
      "cell_type": "markdown",
      "metadata": {
        "id": "FjbSOocZP1kU"
      },
      "source": [
        "## Maxsus belgilar"
      ]
    },
    {
      "cell_type": "markdown",
      "metadata": {
        "id": "v48u3c_jP1kU"
      },
      "source": [
        "Matnga bo'shliq qo'shish uchun `\\t` belgisidan, yangi qatordan boshlash uchun `\\n` belgisidan foydalanamiz:"
      ]
    },
    {
      "cell_type": "code",
      "execution_count": null,
      "metadata": {
        "id": "iHJuGHS-P1kU",
        "outputId": "4b1b848e-ef31-4093-8211-cdcdd0ea8ebf"
      },
      "outputs": [
        {
          "name": "stdout",
          "output_type": "stream",
          "text": [
            "Hello World!\n",
            "Hello \tWorld!\n",
            "Hello \n",
            "World!\n"
          ]
        }
      ],
      "source": [
        "print('Hello World!')\n",
        "print('Hello \\tWorld!')\n",
        "print('Hello \\nWorld!')"
      ]
    },
    {
      "cell_type": "markdown",
      "metadata": {
        "id": "fvIj0Y-kP1kU"
      },
      "source": [
        "# STRING METODLARI"
      ]
    },
    {
      "cell_type": "markdown",
      "metadata": {
        "id": "sDrgj5p0P1kU"
      },
      "source": [
        "Pythonda string ustida amalga oshirish mumkin bo'lgan tayyor amallar to'plami mavjud. Bunday amallar to'plami **metodlar** deb ataladi."
      ]
    },
    {
      "cell_type": "markdown",
      "metadata": {
        "id": "obfpHlv2P1kU"
      },
      "source": [
        "Metodlarni qo'llash uchun metod nomi matndan so'ng `.metod_nomi()`\n",
        " ko'rinishida yoziladi. Keling shunday metodlarning ba'zilari bilan tanishaylik."
      ]
    },
    {
      "cell_type": "markdown",
      "metadata": {
        "id": "_iIlNDAtP1kU"
      },
      "source": [
        "## `upper()` va `lower()` metodlari"
      ]
    },
    {
      "cell_type": "markdown",
      "metadata": {
        "id": "9dvpuifHP1kU"
      },
      "source": [
        "`upper()` metodi matndagi har bir harfni katta harfga o'zgartiradi."
      ]
    },
    {
      "cell_type": "code",
      "execution_count": null,
      "metadata": {
        "id": "cjghTqmvP1kU",
        "outputId": "37163356-9af4-447b-cf74-75a629eaa626"
      },
      "outputs": [
        {
          "name": "stdout",
          "output_type": "stream",
          "text": [
            "AHAD QAYUM\n"
          ]
        }
      ],
      "source": [
        "ism = 'Ahad'\n",
        "familiya = 'Qayum'\n",
        "ism_sharif = f\"{ism} {familiya}\"\n",
        "print(ism_sharif.upper())"
      ]
    },
    {
      "cell_type": "markdown",
      "metadata": {
        "id": "YtITS-84P1kU"
      },
      "source": [
        "`lower()` metodi esa aksincha, har bir harfni kichik harfga o'zgartiradi."
      ]
    },
    {
      "cell_type": "code",
      "execution_count": null,
      "metadata": {
        "id": "ubjfOXTbP1kU",
        "outputId": "16bcc3d0-f4b5-401e-e6e5-b24a8ed8e085"
      },
      "outputs": [
        {
          "name": "stdout",
          "output_type": "stream",
          "text": [
            "ahad qayum\n"
          ]
        }
      ],
      "source": [
        "ism = 'Ahad'\n",
        "familiya = 'Qayum'\n",
        "ism_sharif = f\"{ism} {familiya}\"\n",
        "print(ism_sharif.lower())"
      ]
    },
    {
      "cell_type": "markdown",
      "metadata": {
        "id": "5heaChXTP1kU"
      },
      "source": [
        "## `title()` va `capitalize()` metodlari"
      ]
    },
    {
      "cell_type": "markdown",
      "metadata": {
        "id": "CAEroZVHP1kU"
      },
      "source": [
        "`title()` metodi matndagi har bir so'zning birinchi harfini katta harf bilan yozadi."
      ]
    },
    {
      "cell_type": "code",
      "execution_count": null,
      "metadata": {
        "id": "-dS-nZHiP1kU",
        "outputId": "16270567-a5f3-48da-cc2d-7f754e8e07fa"
      },
      "outputs": [
        {
          "name": "stdout",
          "output_type": "stream",
          "text": [
            "James Bond\n"
          ]
        }
      ],
      "source": [
        "ism_sharif = 'james bond'\n",
        "print(ism_sharif.title())"
      ]
    },
    {
      "cell_type": "markdown",
      "metadata": {
        "id": "aaOlsWJ5P1kV"
      },
      "source": [
        "`capitalize()` esa faqatgina eng birinchi so'zning birinchi harfini katta bilan yozadi."
      ]
    },
    {
      "cell_type": "code",
      "execution_count": 1,
      "metadata": {
        "colab": {
          "base_uri": "https://localhost:8080/"
        },
        "id": "NMjbie-oP1kV",
        "outputId": "bd690986-d9ee-47d4-f275-360d982ac231"
      },
      "outputs": [
        {
          "output_type": "stream",
          "name": "stdout",
          "text": [
            "James bond\n"
          ]
        }
      ],
      "source": [
        "ism_sharif = 'james bond'\n",
        "print(ism_sharif.capitalize())"
      ]
    },
    {
      "cell_type": "markdown",
      "metadata": {
        "id": "jPERpZdZP1kV"
      },
      "source": [
        "Metodlarni faqat o'zgaruvchilarga emas, balki to'g'ridan-to'g'ri matnga ham qo'llash mumkin (aslida o'zgaruvchi ham matnning (yoki boshqa ma'lumotning) manzili xolos)"
      ]
    },
    {
      "cell_type": "code",
      "execution_count": null,
      "metadata": {
        "id": "NVC9IseLP1kV",
        "outputId": "753d8d29-af2d-4d1e-e6a9-4b3ee43dc3ec"
      },
      "outputs": [
        {
          "name": "stdout",
          "output_type": "stream",
          "text": [
            "JAMES BOND\n"
          ]
        }
      ],
      "source": [
        "print('james bond'.upper())"
      ]
    },
    {
      "cell_type": "markdown",
      "metadata": {
        "id": "di7dtZKQP1kV"
      },
      "source": [
        "## `strip()`, `rstrip()` va `lstrip()` metodlari"
      ]
    },
    {
      "cell_type": "markdown",
      "metadata": {
        "id": "_N6VKQoyP1kV"
      },
      "source": [
        "Bu metodlar matnning boshi va oxiridagi bo'sh joylarni olib tashlaydi.\n",
        "\n",
        "- `lstrip()` — matn boshidagi bo'shliqni,\n",
        "- `rstrip()` – matn oxiridagi bo'shliqni,\n",
        "- `strip()` — matn boshi va oxiridagi bo'shliqlarni olib tashlaydi"
      ]
    },
    {
      "cell_type": "code",
      "execution_count": null,
      "metadata": {
        "id": "cah_sxjsP1kY",
        "outputId": "1aba0967-84ba-4e40-be1a-930941da7123"
      },
      "outputs": [
        {
          "name": "stdout",
          "output_type": "stream",
          "text": [
            "Men olma      yaxshi ko'raman\n",
            "Men      olma yaxshi ko'raman\n",
            "Men olma yaxshi ko'raman\n",
            "Men      olma      yaxshi ko'raman\n"
          ]
        }
      ],
      "source": [
        "meva = \"     olma     \"\n",
        "print(\"Men \" + meva.lstrip() + \" yaxshi ko'raman\")\n",
        "print(\"Men \" + meva.rstrip() + \" yaxshi ko'raman\")\n",
        "print(\"Men \" + meva.strip() + \" yaxshi ko'raman\")\n",
        "print(\"Men \" + meva + \" yaxshi ko'raman\")"
      ]
    },
    {
      "cell_type": "markdown",
      "metadata": {
        "id": "sOmC_DqEP1kZ"
      },
      "source": [
        "Matnlar bilan ishlaydigan metodlar ko'p. Ularning ba'zilari bilan kelajakda yana tanishamiz, to'liq ro'yhatni esa quyidagi [sahifada](https://www.w3schools.com/python/python_ref_string.asp) ko'rishingiz mumkin."
      ]
    },
    {
      "cell_type": "markdown",
      "metadata": {
        "id": "V9djELHgP1kZ"
      },
      "source": [
        "> **Metodlar o'zgaruvchi ichidagi asl matnni o'zgartirmaydi!**"
      ]
    },
    {
      "cell_type": "markdown",
      "metadata": {
        "id": "4jTj250RP1kZ"
      },
      "source": [
        "# INPUT — FOYDALANUVCHI BILAN MULOQOT"
      ]
    },
    {
      "cell_type": "markdown",
      "metadata": {
        "id": "Zc311pQWP1kZ"
      },
      "source": [
        "Shu paytgacha biz o'zgaruvchilarning qiymatini dasturning ichida berayotgan edik. Keling endi qiymatni o'zimiz emas, balki dastur foydalanuvchilariga kiritish imkonini beramiz."
      ]
    },
    {
      "cell_type": "markdown",
      "metadata": {
        "id": "doRWuM_1P1kZ"
      },
      "source": [
        "Buning uchun `input()` funktsyasidan foydalanamiz."
      ]
    },
    {
      "cell_type": "code",
      "execution_count": null,
      "metadata": {
        "id": "qpeKEwYAP1kZ",
        "outputId": "075350e2-6235-4b89-a009-1f6cd2435f1d"
      },
      "outputs": [
        {
          "name": "stdout",
          "output_type": "stream",
          "text": [
            "Ismingiz nima?anvar\n",
            "Assalom alaykum, anvar\n"
          ]
        }
      ],
      "source": [
        "ism = input(\"Ismingiz nima?\")\n",
        "print(\"Assalom alaykum, \" + ism)"
      ]
    },
    {
      "cell_type": "markdown",
      "metadata": {
        "id": "FOsvWoInP1kZ"
      },
      "source": [
        "Yuqoridagi dastur, avval 1-qatorda foydalanuvchining ismini so'raydi. Foydalanuvchi ismini kiritib, Enter tugmasini bosgach, foydalanuvchi kiritgan matnism degan o'zgaruvchiga yuklanadi va dasturining 2-qatori bajaradi:"
      ]
    },
    {
      "cell_type": "markdown",
      "metadata": {
        "id": "9-BM7lSfP1kZ"
      },
      "source": [
        "Keling yuqoridagi kod va uning natijasini chiroyliroq ko'rinishga keltiramiz."
      ]
    },
    {
      "cell_type": "code",
      "execution_count": null,
      "metadata": {
        "id": "OFGAxkZwP1kZ"
      },
      "outputs": [],
      "source": [
        "ism = input(\"Ismingiz nima?\\n>>>\") # Foydalanuvchi ismini yangi qatordan kiritadi\n",
        "print(\"Assalom alaykum, \" + ism.title())"
      ]
    },
    {
      "cell_type": "markdown",
      "metadata": {
        "id": "snqzcc1MP1kZ"
      },
      "source": [
        "![Foydalanuvchidan qiymat olish](https://gblobscdn.gitbook.com/assets%2F-MGbkqs1tROquIT6oqUs%2F-MLg_Rlt3ghgz7tHHhmJ%2F-MLgalhJF6uRE0GABSmk%2Finput.gif?alt=media&token=9a2da927-7f2a-4094-a1a1-6b64dddc4b00)"
      ]
    },
    {
      "cell_type": "markdown",
      "metadata": {
        "id": "hBBk8zHBP1kZ"
      },
      "source": [
        "# AMALIYOT"
      ]
    },
    {
      "cell_type": "markdown",
      "metadata": {
        "id": "3zEMPHjFP1ka"
      },
      "source": [
        "Quyidagi mashqlarni bajaring:\n",
        "- Quyidagi o'zgaruvchilarni yarating:\n",
        "   + `kocha=\"Bog'bon\"`\n",
        "   + `mahalla=\"Sog'bon\"`\n",
        "   + `tuman=\"Bodomzor\"`\n",
        "   + `viloyat=\"Samarqand\"`\n",
        "- Yuqoridagi o'zgaruvchilarni jamlab, quyidagi ko'rinishda konsolga chiqaring:\n",
        "   + `Bog'bon ko'chasi, Sog'bon mahallasi, Bodomzor tumani, Samarqand viloyati`\n",
        "- Yuqoridagi o'zgaruvchilarning (`kocha`, `mahalla`, `tuman`, `viloyat`) qiymatini foydalanuvchidan so'rang. Va avvalgi mashqni takrorlang.\n",
        "- Yuqoridagi matnni konsolga chiqarishda har bir verguldan keyin yangi qatordan yozing\n",
        "- Yuqoridagi matnni **f-string** yordamida, yangi, `manzil` deb nomlangan o'zgaruvchiga yuklang\n",
        "`manzilga` biz yuqorida o'rgangan `title()`, `upper()`, `lower()` , `capitalize()` metodlarini qo'llab ko'ring."
      ]
    },
    {
      "cell_type": "code",
      "source": [
        "kocha=\"Bog'bon\"\n",
        "mahalla=\"Sog'bon\"\n",
        "tuman=\"Bodomzor\"\n",
        "viloyat=\"Samarqand\"\n",
        "\n",
        "print(f\"{kocha} ko'chasi, {mahalla} mahallasi, {tuman} tumani, {viloyat} viloyati\")"
      ],
      "metadata": {
        "colab": {
          "base_uri": "https://localhost:8080/"
        },
        "id": "kc2CCQIZQHbj",
        "outputId": "ffc76392-510a-4ff0-b906-648cae8050e8"
      },
      "execution_count": 8,
      "outputs": [
        {
          "output_type": "stream",
          "name": "stdout",
          "text": [
            "Bog'bon ko'chasi,\n",
            "Sog'bon mahallasi,\n",
            "Bodomzor tumani,\n",
            "Samarqand viloyati\n"
          ]
        }
      ]
    },
    {
      "cell_type": "code",
      "source": [
        "kocha=input(\"Ko'cha: \")\n",
        "mahalla=input(\"Mahalla: \")\n",
        "tuman=input(\"Tuman: \")\n",
        "viloyat=input(\"Viloyat: \")\n",
        "\n",
        "print(f\"{kocha} ko'chasi, {mahalla} mahallasi, {tuman} tumani, {viloyat} viloyati\")"
      ],
      "metadata": {
        "colab": {
          "base_uri": "https://localhost:8080/"
        },
        "id": "oT1XCQw0QqBr",
        "outputId": "ff074dac-ae8e-4f4b-d49e-646944cacf63"
      },
      "execution_count": 10,
      "outputs": [
        {
          "output_type": "stream",
          "name": "stdout",
          "text": [
            "Ko'cha: Tursunov\n",
            "Mahalla: Rakat\n",
            "Tuman: Yakkasaroy\n",
            "Viloyat: Toshkent\n",
            "Tursunov ko'chasi, Rakat mahallasi, Yakkasaroy tumani, Toshkent viloyati\n"
          ]
        }
      ]
    },
    {
      "cell_type": "code",
      "source": [
        "print(f\"{kocha} ko'chasi,\\n{mahalla} mahallasi,\\n{tuman} tumani,\\n{viloyat} viloyati\")"
      ],
      "metadata": {
        "colab": {
          "base_uri": "https://localhost:8080/"
        },
        "id": "Ls846YCvSTsF",
        "outputId": "2fd9d333-b9b2-446c-e78a-c030d9aa6815"
      },
      "execution_count": 12,
      "outputs": [
        {
          "output_type": "stream",
          "name": "stdout",
          "text": [
            "Tursunov ko'chasi,\n",
            "Rakat mahallasi,\n",
            "Yakkasaroy tumani,\n",
            "Toshkent viloyati\n"
          ]
        }
      ]
    },
    {
      "cell_type": "code",
      "source": [
        "manzil = f\"{kocha} ko\\'chasi, {mahalla} mahallasi, {tuman} tumani, {viloyat} viloyati\"\n",
        "\n",
        "print(manzil.title())\n",
        "print(manzil.upper())\n",
        "print(manzil.lower())\n",
        "print(manzil.capitalize())"
      ],
      "metadata": {
        "id": "EwfNQGBdT3sy",
        "outputId": "4c277f1f-a9e4-4259-cb82-4d24f2bf562b",
        "colab": {
          "base_uri": "https://localhost:8080/"
        }
      },
      "execution_count": 17,
      "outputs": [
        {
          "output_type": "stream",
          "name": "stdout",
          "text": [
            "Tursunov Ko'Chasi, Rakat Mahallasi, Yakkasaroy Tumani, Toshkent Viloyati\n",
            "TURSUNOV KO'CHASI, RAKAT MAHALLASI, YAKKASAROY TUMANI, TOSHKENT VILOYATI\n",
            "tursunov ko'chasi, rakat mahallasi, yakkasaroy tumani, toshkent viloyati\n",
            "Tursunov ko'chasi, rakat mahallasi, yakkasaroy tumani, toshkent viloyati\n"
          ]
        }
      ]
    },
    {
      "cell_type": "markdown",
      "metadata": {
        "id": "p7oVTgfeP1ka"
      },
      "source": [
        "# JAVOBLAR\n"
      ]
    },
    {
      "cell_type": "code",
      "execution_count": null,
      "metadata": {
        "id": "Bo4XG92GP1ka"
      },
      "outputs": [],
      "source": [
        "kocha = \"Bog'bon\"\n",
        "mahalla = \"Sog'bon\"\n",
        "tuman = \"Bodomzor\"\n",
        "viloyat = \"Samarqand\""
      ]
    },
    {
      "cell_type": "code",
      "execution_count": null,
      "metadata": {
        "id": "dGs56efYP1ka",
        "outputId": "12d2cf83-fec5-4bc8-803a-c330c147da87"
      },
      "outputs": [
        {
          "name": "stdout",
          "output_type": "stream",
          "text": [
            "Bog'bon ko'chasi, Sog'bon mahallasi, Bodomzor tumani, Samarqand viloyati\n"
          ]
        }
      ],
      "source": [
        "# Yuqoridagi o'zgaruvchilarni jamlab, quyidagi ko'rinishda konsolga chiqaring:\n",
        "print(kocha + \" ko'chasi, \" + mahalla + \" mahallasi, \" + \\\n",
        "      tuman + \" tumani, \" + viloyat + \" viloyati\")"
      ]
    },
    {
      "cell_type": "code",
      "execution_count": null,
      "metadata": {
        "id": "CKn41HYIP1ka",
        "outputId": "b703ea29-7335-4ef8-f07c-18be08210337"
      },
      "outputs": [
        {
          "name": "stdout",
          "output_type": "stream",
          "text": [
            "Iltimos, quyidagi ma'lumotlarni kiriting:\n",
            "Ko'changiz: beruniy\n",
            "Mahallangiz: bodomzor\n",
            "Tumaningiz: olmazor\n",
            "Viloyatingiz: toshkent\n",
            "beruniy ko'chasi, bodomzor mahallasi, olmazor tumani, toshkent viloyati\n"
          ]
        }
      ],
      "source": [
        "#Yuqoridagi o'zgaruvchilarning qiymatini foydalanuvchidan so'rang.\n",
        "print(\"Iltimos, quyidagi ma'lumotlarni kiriting:\")\n",
        "kocha = input(\"Ko'changiz: \")\n",
        "mahalla = input(\"Mahallangiz: \")\n",
        "tuman = input(\"Tumaningiz: \")\n",
        "viloyat = input(\"Viloyatingiz: \")\n",
        "print(kocha + \" ko'chasi, \" + mahalla + \" mahallasi, \" + \\\n",
        "      tuman + \" tumani, \" + viloyat + \" viloyati\")"
      ]
    },
    {
      "cell_type": "code",
      "execution_count": null,
      "metadata": {
        "id": "f0zzX2omP1ka",
        "outputId": "2dc4f4f3-669d-42fa-fe9b-bb9a7bea02b1"
      },
      "outputs": [
        {
          "name": "stdout",
          "output_type": "stream",
          "text": [
            "beruniy ko'chasi,\n",
            "bodomzor mahallasi,\n",
            "olmazor tumani,\n",
            "toshkent viloyati\n"
          ]
        }
      ],
      "source": [
        "# Yuqoridagi matnni konsolga chiqarishda har bir verguldan keyin yangi qatorga yozing\n",
        "print(kocha + \" ko'chasi,\\n\" + mahalla + \" mahallasi,\\n\" + \\\n",
        "      tuman + \" tumani,\\n\" + viloyat + \" viloyati\")"
      ]
    },
    {
      "cell_type": "code",
      "execution_count": null,
      "metadata": {
        "id": "4-nuOqi9P1ka",
        "outputId": "cea2b8d1-c546-4613-bdeb-02fe1e26b3a5"
      },
      "outputs": [
        {
          "name": "stdout",
          "output_type": "stream",
          "text": [
            "beruniy ko'chasi, bodomzor mahallasi, olmazor tumani, toshkent viloyati\n"
          ]
        }
      ],
      "source": [
        "# Yuqoridagi o'zgaruvchilarni f-string yordamida, yangi manzil deb nomlangan o'zgaruvchiga yuklang\n",
        "manzil = f\"{kocha} ko'chasi, {mahalla} mahallasi, {tuman} tumani, {viloyat} viloyati\"\n",
        "print(manzil)"
      ]
    },
    {
      "cell_type": "code",
      "execution_count": null,
      "metadata": {
        "id": "pm7BZxOAP1kb",
        "outputId": "b4061541-1396-44f1-8d04-816b6f8079a9"
      },
      "outputs": [
        {
          "name": "stdout",
          "output_type": "stream",
          "text": [
            "BERUNIY KO'CHASI, BODOMZOR MAHALLASI, OLMAZOR TUMANI, TOSHKENT VILOYATI\n",
            "beruniy ko'chasi, bodomzor mahallasi, olmazor tumani, toshkent viloyati\n",
            "Beruniy Ko'Chasi, Bodomzor Mahallasi, Olmazor Tumani, Toshkent Viloyati\n",
            "Beruniy ko'chasi, bodomzor mahallasi, olmazor tumani, toshkent viloyati\n"
          ]
        }
      ],
      "source": [
        "#manzil ga biz yuqorida o'rgangan metodlarni qo'llab ko'ring.\n",
        "print(manzil.upper())\n",
        "print(manzil.lower())\n",
        "print(manzil.title())\n",
        "print(manzil.capitalize())"
      ]
    }
  ],
  "metadata": {
    "language_info": {
      "name": "python"
    },
    "colab": {
      "provenance": []
    },
    "kernelspec": {
      "name": "python3",
      "display_name": "Python 3"
    }
  },
  "nbformat": 4,
  "nbformat_minor": 0
}