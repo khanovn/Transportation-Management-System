{
  "cells": [
    {
      "cell_type": "markdown",
      "metadata": {
        "id": "YIi8YzNagLy5"
      },
      "source": [
        "# 07-DARS. LIST (RO'YXAT)\n",
        "List yordamida bir o'zgaruvchida ko'p qiymatlar saqlashni o'rganamiz."
      ]
    },
    {
      "cell_type": "markdown",
      "metadata": {
        "id": "Cq47aTMFgLy8"
      },
      "source": [
        "![](https://gblobscdn.gitbook.com/assets%2F-MGbkqs1tROquIT6oqUs%2F-Mc-5yGQPZTBaGoehQdL%2F-Mc-7xpq4Puu3KEjmT0R%2FSD_YT_TG_logo_mini.png?alt=media&token=929fe67b-ec12-4f63-b33e-e9c5e3d8ad09)"
      ]
    },
    {
      "cell_type": "markdown",
      "metadata": {
        "id": "h8B5WXUFgLy9"
      },
      "source": [
        "# LIST BILAN TANISHAMIZ\n",
        "Avvalgi darsimizda biz o'zgaruvchi yaratish, va uning ichida biror qiymatni (matn yoki son) saqlashni o'rgandik. Bunda biz bitta o'zgaruvchiga bitta qiymat berdik xolos.\n",
        "\n",
        "Bugun o'rganadigan navbatdagi mal'umot turi **List (ro'yxat)** deb ataladi. Ro'yxat o'z nomi bilan, bitta o'zgaruvchida bir nechta qiymatlarni saqlash imkonini beradi. Bu qiymatlar List **elementlari** deyiladi. Ro'yxatda son, matn yoki aralash turdagi elementlarni saqlash mumkin.\n",
        "\n",
        "List quyidagicha yaratiladi:"
      ]
    },
    {
      "cell_type": "code",
      "execution_count": null,
      "metadata": {
        "id": "AiQHFbAsgLy9"
      },
      "outputs": [],
      "source": [
        "mevalar = ['olma', 'anjir', 'shaftoli', \"o'rik\"] # mevalar ro'yxati (matnlar)\n",
        "narhlar = [12000, 18000, 10900, 22000] # narhlar ro'yxati (sonlar)\n",
        "sonlar = ['bir', 'ikki', 3, 4, 5] # sonlar va matnlar aralash ro'yxat\n",
        "ismlar = [] # bo'sh ro'yxat"
      ]
    },
    {
      "cell_type": "markdown",
      "metadata": {
        "id": "CFUrfeQ9gLy-"
      },
      "source": [
        ">Ro'yxat saqlaydigan o'zgaruvchilarni nomlashda -lar  (ko'plik) qo'shimchasini qo'shish maqsadga muvofiq bo'ladi (inlgiz tilida -s).\n",
        "Misol uchun: `mevalar`, `uylar`, `cars`, `toys`, `books`"
      ]
    },
    {
      "cell_type": "markdown",
      "metadata": {
        "id": "_h3m9UHdgLy_"
      },
      "source": [
        "# LIST ELEMENTLARI\n",
        "Ro'yxatdagi har bir element tartib bilan joylashgani sababli, biz istalgan elementga uning tartib raqami (indeksi) bo'yicha murojat qilishimiz mumkin."
      ]
    },
    {
      "cell_type": "markdown",
      "metadata": {
        "id": "Dzsw5cANgLy_"
      },
      "source": [
        ">Dasturlash olamida indeks `0` dan boshlanadi! Ya'ni Listning birinchi elementing tartib raqami (indeksi) `0` ga, ikkinchi elementning indeksi `1` ga teng va hokazo."
      ]
    },
    {
      "cell_type": "code",
      "execution_count": null,
      "metadata": {
        "id": "4zm_T7rGgLy_",
        "outputId": "00033e41-f423-47cf-c682-9957a89c6fe3"
      },
      "outputs": [
        {
          "name": "stdout",
          "output_type": "stream",
          "text": [
            "Birinchi meva:  olma\n",
            "Ikkinchi meva:  anjir\n"
          ]
        }
      ],
      "source": [
        "mevalar = ['olma', 'anjir', 'shaftoli', \"o'rik\"] # mevalar ro'yxati (matnlar)\n",
        "print(\"Birinchi meva: \", mevalar[0])\n",
        "print(\"Ikkinchi meva: \", mevalar[1])"
      ]
    },
    {
      "cell_type": "markdown",
      "metadata": {
        "id": "nIcmYclWgLzA"
      },
      "source": [
        "Agar list ichidagi elementlar matn ko'rinishid bo'lsa, ularga string metodlarni qo'llashimiz mumkin:"
      ]
    },
    {
      "cell_type": "code",
      "execution_count": null,
      "metadata": {
        "id": "Qs4Fwq21gLzA",
        "outputId": "747681db-3efe-41e6-9225-ca74cd7c6c81"
      },
      "outputs": [
        {
          "name": "stdout",
          "output_type": "stream",
          "text": [
            "Birinchi meva:  Olma\n",
            "Ikkinchi meva:  ANJIR\n"
          ]
        }
      ],
      "source": [
        "mevalar = ['olma', 'anjir', 'shaftoli', \"o'rik\"] # mevalar ro'yxati (matnlar)\n",
        "print(\"Birinchi meva: \", mevalar[0].title())\n",
        "print(\"Ikkinchi meva: \", mevalar[1].upper())"
      ]
    },
    {
      "cell_type": "markdown",
      "metadata": {
        "id": "1YwZN5qmgLzA"
      },
      "source": [
        "List elementlari ustida arifmetik amallar bajarish:"
      ]
    },
    {
      "cell_type": "code",
      "execution_count": null,
      "metadata": {
        "id": "oMlC4pZHgLzB",
        "outputId": "d40eddb8-33b3-4aff-d677-0cb69f84323b"
      },
      "outputs": [
        {
          "name": "stdout",
          "output_type": "stream",
          "text": [
            "32900\n"
          ]
        }
      ],
      "source": [
        "narhlar = [12000, 18000, 10900, 22000]\n",
        "print(narhlar[2] + narhlar[3])"
      ]
    },
    {
      "cell_type": "markdown",
      "metadata": {
        "id": "WbzK5TS_gLzB"
      },
      "source": [
        "Pythonda Listning eng oxirgi elementiga `-1` indeksi orqali ham murojat qilish mumkin. Bu usul Listning uzunligini bilmaganda juda asqotadi."
      ]
    },
    {
      "cell_type": "code",
      "execution_count": null,
      "metadata": {
        "id": "GuZP2uuSgLzB",
        "outputId": "97ef85c7-0a79-47cc-c5d9-763a212108a6"
      },
      "outputs": [
        {
          "name": "stdout",
          "output_type": "stream",
          "text": [
            "Volkswagen\n"
          ]
        }
      ],
      "source": [
        "car_models = ['Toyota', 'GM', 'Volvo', 'BMW', 'Hyundai', 'Kia', 'Volkswagen']\n",
        "print(car_models[-1]) # Listning eng oxirgi elementiga -1 bilan murojat qilamiz"
      ]
    },
    {
      "cell_type": "markdown",
      "metadata": {
        "id": "vy3toq4WgLzC"
      },
      "source": [
        "# ELEMENTLARNI QO'SHISH, O'CHIRISH VA O'ZGARTIRISH\n",
        "Dastur davomida listning tarkibi o'zgarishi, yangi elementlar qo'shilishi, ba'zi elementlar o'chirilishi tabiiy hol. Misol uchun \"Bozorlik ro'yxati\" degan dasturni tasavvur qilaylik, foydalanuvchi ro'yxatga yangi mahsulotlar qo'shishi, sotib olganlarini esa o'chrishi mumkin.\n",
        "\n",
        "## Elementni o'zgartirish\n",
        "Ro'yxatdagi biror elementning qiymatini o'zgartirish uchun, o'sha elementga indeksi bo'yicha murojat qilamiz va yangi qiymat yuklaymiz"
      ]
    },
    {
      "cell_type": "code",
      "execution_count": null,
      "metadata": {
        "id": "IT6zHj9RgLzC",
        "outputId": "502a8d25-767f-4bb4-de84-8d487d9f00c4"
      },
      "outputs": [
        {
          "name": "stdout",
          "output_type": "stream",
          "text": [
            "[13000, 18000, 11000, 24000]\n"
          ]
        }
      ],
      "source": [
        "narhlar = [12000, 18000, 10900, 22000]\n",
        "narhlar[0] = 13000 # 1-qiymatni 13000 ga o'zgartiramiz\n",
        "narhlar[2] = 11000 # 3-qiymatni 11000 ga o'zgartiramiz\n",
        "narhlar[3] = narhlar[3]+2000 # 4-qiymatga 2000 qo'shamiz\n",
        "print(narhlar)"
      ]
    },
    {
      "cell_type": "markdown",
      "metadata": {
        "id": "z317zw_lgLzC"
      },
      "source": [
        "## Yangi element qo'shish\n",
        "**`.append()` metodi**\n",
        "\n",
        "Ro'yxatga yangi element qo'shishning oson usuli bu `.append()` metodi yordamida ro'yxatning **oxiriga** qiymat qo'shish:"
      ]
    },
    {
      "cell_type": "code",
      "execution_count": null,
      "metadata": {
        "id": "7HXq3z3YgLzC",
        "outputId": "e5df9505-a097-46f6-9eda-a714a2a941d3"
      },
      "outputs": [
        {
          "name": "stdout",
          "output_type": "stream",
          "text": [
            "['olma', 'anjir', 'shaftoli', \"o'rik\", 'tarvuz']\n"
          ]
        }
      ],
      "source": [
        "mevalar = ['olma', 'anjir', 'shaftoli', \"o'rik\"]\n",
        "mevalar.append(\"tarvuz\") # mevalar ga tarvuz qo'shamiz\n",
        "print(mevalar)"
      ]
    },
    {
      "cell_type": "markdown",
      "metadata": {
        "id": "HPPGA_kxgLzC"
      },
      "source": [
        "`.append()` metodi bo'sh ro'yxatni to'ldrisihda juda qulay usul. Odatda dastur boshida bo'sh ro'yxat yaratilib, dastur davomida ro'yxat foydalanuvchi tomonidan to'ldirib borilishi odatiy hol."
      ]
    },
    {
      "cell_type": "code",
      "execution_count": null,
      "metadata": {
        "id": "bbQ65E4-gLzC",
        "outputId": "08defeef-63ae-42a0-fcf8-88882e4525d0"
      },
      "outputs": [
        {
          "name": "stdout",
          "output_type": "stream",
          "text": [
            "['Lacetti', 'Nexia 3', 'Cobalt']\n"
          ]
        }
      ],
      "source": [
        "cars = [] # bo'sh ro'yxat yaratamiz\n",
        "cars.append('Lacetti') # ro'yxatga Lacetti mashinasini qo'shamiz\n",
        "cars.append('Nexia 3') # ro'yxatga Nexia 3 mashinasini qo'shamiz\n",
        "cars.append('Cobalt')  # ro'yxatga Cobalt  mashinasini qo'shamiz\n",
        "print(cars)"
      ]
    },
    {
      "cell_type": "markdown",
      "metadata": {
        "id": "dssUJuT6gLzD"
      },
      "source": [
        "**`.insert()` metodi**\n",
        "\n",
        "Ro'yxatning istalgan joyiga yangi element qo'shish uchun `.insert()` metodidan foydalanamiz. `.insert()` metodi ichida yangi elementning indeksi va qiymati beriladi:"
      ]
    },
    {
      "cell_type": "code",
      "execution_count": null,
      "metadata": {
        "id": "F6S4WtAHgLzD",
        "outputId": "2b06db10-fe36-4ae9-e243-de30b23d7940"
      },
      "outputs": [
        {
          "name": "stdout",
          "output_type": "stream",
          "text": [
            "['Malibu', 'Lacetti', 'Nexia 3', 'Cobalt']\n"
          ]
        }
      ],
      "source": [
        "cars = ['Lacetti', 'Nexia 3', 'Cobalt']\n",
        "cars.insert(0, 'Malibu') # 1-o'ringa yangi qiymat qo'shamiz\n",
        "print(cars)"
      ]
    },
    {
      "cell_type": "code",
      "execution_count": null,
      "metadata": {
        "id": "4B3Om6vngLzD",
        "outputId": "c6c17aac-e588-408a-a087-8a137021c698"
      },
      "outputs": [
        {
          "name": "stdout",
          "output_type": "stream",
          "text": [
            "['Malibu', 'Lacetti', 'Damas', 'Nexia 3', 'Cobalt']\n"
          ]
        }
      ],
      "source": [
        "cars.insert(2, 'Damas') # 3-o'ringa yangi qiymat qo'shamiz\n",
        "print(cars)"
      ]
    },
    {
      "cell_type": "markdown",
      "metadata": {
        "id": "YSwBhUDNgLzD"
      },
      "source": [
        "## Elementni o'chirish\n",
        "Ro'yxatdan biror elementni olib tashlash uchun uning indeksini yoki qiymatini bilishimiz lozim.\n",
        "\n",
        "Inedks yordamida olib tashlash uchun `del` operatoridan foydalanamiz:"
      ]
    },
    {
      "cell_type": "code",
      "execution_count": null,
      "metadata": {
        "id": "6rloyr8HgLzD",
        "outputId": "b859f3b3-b535-48b3-e91d-d0d5f9bcd111"
      },
      "outputs": [
        {
          "name": "stdout",
          "output_type": "stream",
          "text": [
            "['olma', 'shaftoli', \"o'rik\", 'anor']\n"
          ]
        }
      ],
      "source": [
        "mevalar = ['olma', 'anjir', 'shaftoli', \"o'rik\", 'anor']\n",
        "del mevalar[1] # 2-element (anjir) ni o'chirib tashlaymiz\n",
        "print(mevalar)"
      ]
    },
    {
      "cell_type": "markdown",
      "metadata": {
        "id": "CLV3ieimgLzE"
      },
      "source": [
        "Element qiymati bo'yichi o'chirish uchun esa `.remove(qiymat)` metodidan foydalanamiz. Buning uchun qavs ichida o'chirib tashlash kerak bo'lgan qiymatni yozamiz"
      ]
    },
    {
      "cell_type": "code",
      "execution_count": null,
      "metadata": {
        "id": "JuliQhDwgLzE",
        "outputId": "5e3b2bc5-ab9c-4a6f-90a4-a6cfcc1f3698"
      },
      "outputs": [
        {
          "name": "stdout",
          "output_type": "stream",
          "text": [
            "['olma', 'anjir', \"o'rik\", 'anor']\n"
          ]
        }
      ],
      "source": [
        "mevalar = ['olma', 'anjir', 'shaftoli', \"o'rik\", 'anor']\n",
        "mevalar.remove('shaftoli') # Ro'yxatdan shaftolini o'chirdik\n",
        "print(mevalar)"
      ]
    },
    {
      "cell_type": "markdown",
      "metadata": {
        "id": "J-OS6buFgLzE"
      },
      "source": [
        ">`.remove(qiymat)` metodi ro'yxatda uchragan birinchi mos keluvchi qiymatni o'chiradi. Agar ro'yxatning ichida 2 va undan ko'p bir hil qiymatli elementlar bo'lsa, ulardan eng birinchisi o'chadi."
      ]
    },
    {
      "cell_type": "code",
      "execution_count": null,
      "metadata": {
        "id": "QvWyx4NygLzE",
        "outputId": "ce85033e-ad02-4bcb-ac66-f6d523da918f"
      },
      "outputs": [
        {
          "name": "stdout",
          "output_type": "stream",
          "text": [
            "['it', 'sigir', \"qo'y\", 'quyon', 'mushuk']\n"
          ]
        }
      ],
      "source": [
        "hayvonlar = ['it', 'mushuk', 'sigir', 'qo\\'y', 'quyon', 'mushuk']\n",
        "hayvonlar.remove(\"mushuk\") # Ro'yxatda 2 ta mushuk bor, ulardan birinchisi o'chadi\n",
        "print(hayvonlar)"
      ]
    },
    {
      "cell_type": "markdown",
      "metadata": {
        "id": "YaSkLu53gLzE"
      },
      "source": [
        "## Elementni sug'urib olish\n",
        "Ba'zida biror elementni butunlay o'chirib tashlash emas, balki uni ro'yxatdan sug'urib olish va undan foydalanish talab qilinishi mumkin. Buning uchun Pythonda `.pop(indeks)` metodidan foydalanmiz."
      ]
    },
    {
      "cell_type": "code",
      "execution_count": null,
      "metadata": {
        "id": "nXHq9qtUgLzE",
        "outputId": "af1c4073-c580-4c29-bd87-0096a6a055ac"
      },
      "outputs": [
        {
          "name": "stdout",
          "output_type": "stream",
          "text": [
            "Men banan sotib oldim\n",
            "Olinmagan mahsulotlar:  [\"yog'\", 'un', 'piyoz', \"go'sht\"]\n"
          ]
        }
      ],
      "source": [
        "bozorlik = [\"yog'\", 'un', 'piyoz', 'banan', \"go'sht\"]\n",
        "mahsulot = bozorlik.pop(3) # Ro'yxatdan banan ni sug'urib olamiz\n",
        "print(\"Men \" + mahsulot + \" sotib oldim\")\n",
        "print(\"Olinmagan mahsulotlar: \", bozorlik)"
      ]
    },
    {
      "cell_type": "markdown",
      "metadata": {
        "id": "pFHpGeHugLzE"
      },
      "source": [
        ">Agar `.pop()` metodida indeks berilmasa, ro'yxatdan o'xirgi qiymat sug'urib olinadi."
      ]
    },
    {
      "cell_type": "markdown",
      "metadata": {
        "id": "zmDy4c0_gLzE"
      },
      "source": [
        "# AMALIYOT\n",
        "Quyidagi mashqlarni bajaring:\n",
        "\n",
        "- ismlar degan ro'yxat yarating va kamida 3 ta yaqin do'stingizning ismini kiriting\n",
        "- Ro'yxatdagi har bir do'stingizga qisqa xabar yozib konsolga chiqaring:\n",
        "\n",
        "![](https://gblobscdn.gitbook.com/assets%2F-MGbkqs1tROquIT6oqUs%2F-MLvZJbRru8b9RC9s6ag%2F-MLvbRkA4uEAqqhKk6Yi%2Fimage.png?alt=media&token=a768a42e-2516-4bbc-83ad-63d012758b25)\n",
        "\n",
        "- `sonlar` deb nomlangan ro'yxat yarating va ichiga turli sonlarni yuklang (musbat, manfiy, butun, o'nlik).\n",
        "- Yuqoridagi ro'yxatdagi sonlar ustida turli arifmetik amallar bajarib ko'ring. Ro'yxatdagi ba'zi sonlarning qiymatini o'zgartiring, ba'zilarini esa almashtiring.\n",
        "- `t_shaxslar` va `z_shaxslar` degan 2 ta ro'yxat yarating va biriga o'zingiz eng ko'p hurmat qilgan tarixiy shaxslarning, ikkinchisiga esa zamonamizdagi tirik bo'lgan shaxslarning ismini kiriting.\n",
        "- Yuqoridagi ro'yxatlarning har biridan bittadan qiymatni sug'urib olib (`.pop()`), quyidagi ko'rinishda chiqaring:\n",
        "![](https://gblobscdn.gitbook.com/assets%2F-MGbkqs1tROquIT6oqUs%2F-MLvdTf93oJb9hVewsv7%2F-MLyyn0plvxsTJKVHnxQ%2Fimage.png?alt=media&token=76b9a4e8-14fe-4d66-bde4-72464e6edbad)\n",
        "\n",
        "\n",
        "- `friends` nomli bo'sh ro'yxat tuzing va unga `.append()` yordamida 5-6 ta mehmonga chaqirmoqchi bo'lgan do'stlaringizni kiriting.\n",
        "- Yuqoridagi ro'yxatdan mehmonga kela olmaydigan odamlarni `.remove()` metodi yordamida o'chrib tashlang.\n",
        "- Ro'yxatning oxiriga, boshiga va o'rtasiga yangi ismlar qo'shing.\n",
        "- Yangi `mehmonlar` deb nomlangan bo'sh ro'yxat yarating. `.pop()` va `.append()` metodlari yordamida mehmonga kelgan do'stlaringizning ismini friends ro'yxatidan sug'urib olib, mehmonlar ro'yxatiga qo'shing."
      ]
    },
    {
      "cell_type": "code",
      "source": [
        "ismlar = ['Abror', 'Ibrat', 'Dilshod']\n",
        "\n",
        "print(f'Salom {ismlar[0]}, bugun choyxona bormi?')\n",
        "print(f'{ismlar[1]}, choyxonaga boramizmi?')"
      ],
      "metadata": {
        "colab": {
          "base_uri": "https://localhost:8080/"
        },
        "id": "QyHobT61mumW",
        "outputId": "b2f28355-b6ef-440f-8c2b-043319986c1c"
      },
      "execution_count": 2,
      "outputs": [
        {
          "output_type": "stream",
          "name": "stdout",
          "text": [
            "Salom Abror, bugun choyxona bormi?\n",
            "Ibrat, choyxonaga boramizmi?\n"
          ]
        }
      ]
    },
    {
      "cell_type": "code",
      "source": [
        "sonlar = [5, 4.5, 6, -1, 0, 33]\n",
        "\n",
        "sonlar[0] = sonlar[3] + 6\n",
        "print(sonlar[0])"
      ],
      "metadata": {
        "colab": {
          "base_uri": "https://localhost:8080/"
        },
        "id": "KDP0UvsJnbwu",
        "outputId": "9a3cee67-b707-4e64-8101-f2ad14fd0778"
      },
      "execution_count": 6,
      "outputs": [
        {
          "output_type": "stream",
          "name": "stdout",
          "text": [
            "5\n"
          ]
        }
      ]
    },
    {
      "cell_type": "code",
      "source": [
        "t_shaxslar = ['Imom Buxoriy', 'Lincolin', 'Tesla', 'Einstain', 'Bell']\n",
        "z_shaxslar = ['Steve Jobs', 'Jonny Ive', 'Bill Gates', 'Nolan', 'Jim Simons']\n",
        "\n",
        "print(f'men tarixiy shaxslardan {t_shaxslar[0]} blan,\\nzamonaviy shaxslardan {z_shaxslar[3]} blan\\nsuhbat qilishni istar edim')"
      ],
      "metadata": {
        "colab": {
          "base_uri": "https://localhost:8080/"
        },
        "id": "tgQZonlBsyM2",
        "outputId": "380040a5-b4e8-4190-d843-2a93c82479a0"
      },
      "execution_count": 11,
      "outputs": [
        {
          "output_type": "stream",
          "name": "stdout",
          "text": [
            "men tarixiy shaxslardan Imom Buxoriy blan,\n",
            "zamonaviy shaxslardan Nolan blan\n",
            "suhbat qilishni istar edim\n"
          ]
        }
      ]
    },
    {
      "cell_type": "code",
      "source": [
        "friends = []\n",
        "print(friends)\n",
        "\n",
        "friends.append(\"Nate\")\n",
        "friends.append(\"Mike\")\n",
        "friends.append(\"Tom\")\n",
        "friends.append(\"Mark\")\n",
        "print(friends)\n"
      ],
      "metadata": {
        "colab": {
          "base_uri": "https://localhost:8080/"
        },
        "id": "JJ9brvIWvhXf",
        "outputId": "e418e2d7-ee05-43d5-b5a6-89835ac734ba"
      },
      "execution_count": 32,
      "outputs": [
        {
          "output_type": "stream",
          "name": "stdout",
          "text": [
            "[]\n",
            "['Nate', 'Mike', 'Tom', 'Mark']\n"
          ]
        }
      ]
    },
    {
      "cell_type": "code",
      "source": [
        "friends.insert(0, \"Ali\")\n",
        "print(friends)\n",
        "\n",
        "friends.insert(2, \"Bek\")\n",
        "print(friends)\n",
        "\n",
        "friends.insert(-1+1, \"Dan\")\n",
        "print(friends)"
      ],
      "metadata": {
        "colab": {
          "base_uri": "https://localhost:8080/"
        },
        "id": "9BV1PrG9ElNM",
        "outputId": "087a845b-bf47-4271-ea1d-1c8187732346"
      },
      "execution_count": 33,
      "outputs": [
        {
          "output_type": "stream",
          "name": "stdout",
          "text": [
            "['Ali', 'Nate', 'Mike', 'Tom', 'Mark']\n",
            "['Ali', 'Nate', 'Bek', 'Mike', 'Tom', 'Mark']\n",
            "['Dan', 'Ali', 'Nate', 'Bek', 'Mike', 'Tom', 'Mark']\n"
          ]
        }
      ]
    },
    {
      "cell_type": "code",
      "source": [
        "guests = []\n",
        "\n",
        "guest1 = friends.pop(-5)\n",
        "guest2 = friends.pop(-1)\n",
        "guest3 = friends.pop(0)\n",
        "\n",
        "guests.append(guest1)\n",
        "guests.append(guest2)\n",
        "guests.append(guest3)\n",
        "\n",
        "print(guests)"
      ],
      "metadata": {
        "colab": {
          "base_uri": "https://localhost:8080/"
        },
        "id": "01nAqu9XGgxy",
        "outputId": "13af7b10-1881-4d38-996c-364ba1cdced7"
      },
      "execution_count": 34,
      "outputs": [
        {
          "output_type": "stream",
          "name": "stdout",
          "text": [
            "['Nate', 'Mark', 'Dan']\n"
          ]
        }
      ]
    },
    {
      "cell_type": "markdown",
      "metadata": {
        "id": "CX6JLB3lgLzE"
      },
      "source": [
        "# JAVOBLAR"
      ]
    },
    {
      "cell_type": "code",
      "execution_count": null,
      "metadata": {
        "id": "NcIq2Bj_gLzE",
        "outputId": "ff5d279d-8bdc-437f-a0a3-40c123ed4c4b"
      },
      "outputs": [
        {
          "name": "stdout",
          "output_type": "stream",
          "text": [
            "Salom Ali ishlaring yaxshimi?\n",
            "Hasan va Husan egizaklar\n",
            "G'ani g'ildirakni g'izillatib g'ildratti\n"
          ]
        }
      ],
      "source": [
        "#ismlar degan ro'yxat yarating va kamida 3 ta yaqin do'stingizning ismini kiriting\n",
        "ismlar = ['Ali', 'Vali', 'Hasan', 'Husan', \"G'ani\"]\n",
        "#Ro'yxatdagi har bir do'stingizga qisqa xabar yozib konsolga chiqaring:\n",
        "print(\"Salom \" + ismlar[0] + \" ishlaring yaxshimi?\")\n",
        "print(f\"{ismlar[2]} va {ismlar[3]} egizaklar\")\n",
        "print(ismlar[-1] + \" g'ildirakni g'izillatib g'ildratti\")"
      ]
    },
    {
      "cell_type": "code",
      "execution_count": null,
      "metadata": {
        "id": "f3bFP_CggLzE",
        "outputId": "ac6244e2-1557-442d-bd65-8e1cd49fec25"
      },
      "outputs": [
        {
          "name": "stdout",
          "output_type": "stream",
          "text": [
            "[22, -58.2, 34.0, 67, 1983, 123456678000, 112.4]\n"
          ]
        }
      ],
      "source": [
        "# sonlar deb nomlangan ro'yxat yarating va ichiga turli sonlarni yuklang (musbat, manfiy, butun, o'nlik).\n",
        "sonlar = [22, -58.2, 34.0, 67, 1983, 123_456_678_000, 112.4]\n",
        "print(sonlar)"
      ]
    },
    {
      "cell_type": "code",
      "execution_count": null,
      "metadata": {
        "id": "fXnbwv3IgLzE",
        "outputId": "ef21a8ff-a1c2-4d13-9dae-b811f5222ac2"
      },
      "outputs": [
        {
          "name": "stdout",
          "output_type": "stream",
          "text": [
            "[134.4, -67.8, 34.0, 67, 2020, 112.4]\n"
          ]
        }
      ],
      "source": [
        "# Yuqoridagi ro'yxatdagi sonlar ustida turli arifmetik amallar bajarib ko'ring. Ro'yxatdagi ba'zi sonlarning qiymatini o'zgartiring, ba'zilarini esa almashtiring.\n",
        "sonlar[0] = sonlar[0]+sonlar[-1]\n",
        "sonlar[1] = -67.8\n",
        "sonlar[4] = sonlar[4] + 37\n",
        "del sonlar[5]\n",
        "print(sonlar)"
      ]
    },
    {
      "cell_type": "code",
      "execution_count": null,
      "metadata": {
        "id": "o4mPTVFugLzF"
      },
      "outputs": [],
      "source": [
        "#t_shaxslarva z_shaxslar degan 2 ta ro'yxat yarating va biriga o'zingiz eng ko'p hurmat qilgan tarixiy shaxslarning, ikkinchisiga esa zamonamizdagi tirik bo'lgan shaxslarning ismini kiriting.\n",
        "t_shaxslar = ['Amir Temur','Imom Buxoriy', 'Napoleon']\n",
        "z_shaxslar = ['Bill Gates', 'Elon Musk', 'Doasnald Trump']"
      ]
    },
    {
      "cell_type": "code",
      "execution_count": null,
      "metadata": {
        "id": "fS-t_CyvgLzF",
        "outputId": "84543fae-2ec6-421b-ea5d-bf3f29e566dd"
      },
      "outputs": [
        {
          "name": "stdout",
          "output_type": "stream",
          "text": [
            "\n",
            "Men tarixiy shaxslardan Imom Buxoriy bilan,\n",
            "zamonaviy shaxslardan esa Bill Gates bilan\n",
            "suhbat qilishni istar edim\n",
            "\n"
          ]
        }
      ],
      "source": [
        "#Yuqoridagi ro'yxatlarning har biridan bittadan qiymatni sug'urib olib (.pop()), quyidagi ko'rinishda chiqaring:\n",
        "print(f\"\\nMen tarixiy shaxslardan {t_shaxslar.pop(1)} bilan,\\n\\\n",
        "zamonaviy shaxslardan esa {z_shaxslar.pop(0)} bilan\\n\\\n",
        "suhbat qilishni istar edim\\n\")"
      ]
    },
    {
      "cell_type": "code",
      "execution_count": null,
      "metadata": {
        "id": "MUb0Tq7ugLzI",
        "outputId": "c8fbe496-98e1-4395-c51a-f2833cae0783"
      },
      "outputs": [
        {
          "name": "stdout",
          "output_type": "stream",
          "text": [
            "['John', 'Alex', 'Danny', 'Sobirjon', 'Vanya']\n"
          ]
        }
      ],
      "source": [
        "#friends nomli bo'sh ro'yxat tuzing va unga .append() yordamida 5-6 ta mehmonga chaqirmoqchi bo'lgan do'stlaringizni kiriting.\n",
        "friends = []\n",
        "friends.append('John')\n",
        "friends.append('Alex')\n",
        "friends.append('Danny')\n",
        "friends.append('Sobirjon')\n",
        "friends.append('Vanya')\n",
        "print(friends)"
      ]
    },
    {
      "cell_type": "code",
      "execution_count": null,
      "metadata": {
        "id": "AIk2T_s9gLzI",
        "outputId": "55975da4-1bc3-47a5-85ee-68202bd03d17"
      },
      "outputs": [
        {
          "name": "stdout",
          "output_type": "stream",
          "text": [
            "['Danny', 'Sobirjon', 'Vanya']\n"
          ]
        }
      ],
      "source": [
        "#Yuqoridagi ro'yxatdan mehmonga kela olmaydigan odamlarni .remove() metodi yordamida o'chrib tashlang.\n",
        "friends.remove('John')\n",
        "friends.remove('Alex')\n",
        "print(friends)"
      ]
    },
    {
      "cell_type": "code",
      "execution_count": null,
      "metadata": {
        "id": "SAb9l1lDgLzJ",
        "outputId": "f38ce964-7fb3-460b-b557-fb1a58a7183a"
      },
      "outputs": [
        {
          "name": "stdout",
          "output_type": "stream",
          "text": [
            "['Husan', 'Danny', 'Ivan', 'Sobirjon', 'Vanya', 'Hasan']\n"
          ]
        }
      ],
      "source": [
        "#Ro'yxatning oxiriga, boshiga va o'rtasiga yangi ismlar qo'shing.\n",
        "friends.append('Hasan')\n",
        "friends.insert(0, 'Husan')\n",
        "friends.insert(2, 'Ivan')\n",
        "print(friends)"
      ]
    },
    {
      "cell_type": "code",
      "execution_count": null,
      "metadata": {
        "id": "LJ3WNDQbgLzJ",
        "outputId": "43c5f49b-9f22-4811-d8ee-40bd33b0de8f"
      },
      "outputs": [
        {
          "name": "stdout",
          "output_type": "stream",
          "text": [
            "\n",
            "Kelgan mehmonlar:  ['Sobirjon', 'Hasan', 'Husan']\n"
          ]
        }
      ],
      "source": [
        "#Yangi mehmonlar deb nomlangan bo'sh ro'yxat yarating. .pop() va .append() metodlari yordamida mehmonga kelgan do'stlaringizning ismini friends ro'yxatidan sug'urib olib, mehmonlar ro'yxatiga qo'shing.\n",
        "mehmonlar = []\n",
        "mehmonlar.append(friends.pop(3))\n",
        "mehmonlar.append(friends.pop(-1))\n",
        "mehmonlar.append(friends.pop(0))\n",
        "print(\"\\nKelgan mehmonlar: \", mehmonlar)"
      ]
    },
    {
      "cell_type": "markdown",
      "metadata": {
        "id": "lOMUdVJjgLzJ"
      },
      "source": [
        "**Quyidagi kodga tegmang**"
      ]
    },
    {
      "cell_type": "code",
      "execution_count": null,
      "metadata": {
        "id": "rMqR5lofgLzJ"
      },
      "outputs": [],
      "source": [
        "%%capture\n",
        "jovian.commit()"
      ]
    }
  ],
  "metadata": {
    "language_info": {
      "name": "python"
    },
    "colab": {
      "provenance": []
    },
    "kernelspec": {
      "name": "python3",
      "display_name": "Python 3"
    }
  },
  "nbformat": 4,
  "nbformat_minor": 0
}