{
  "cells": [
    {
      "cell_type": "markdown",
      "metadata": {
        "id": "FY-Bj9a1Cp05"
      },
      "source": [
        "# 03-DARS. print(), SINTEKS VA ARIFMETIK AMALLAR\n",
        "\n",
        "print() funktsiyasi, Python sintaksi va arifmetik amallar"
      ]
    },
    {
      "cell_type": "markdown",
      "metadata": {
        "id": "LTz6hQBOCp07"
      },
      "source": [
        "![Sariqdev](https://gblobscdn.gitbook.com/assets%2F-MGbkqs1tROquIT6oqUs%2F-Mc-5yGQPZTBaGoehQdL%2F-Mc-7xpq4Puu3KEjmT0R%2FSD_YT_TG_logo_mini.png?alt=media&token=929fe67b-ec12-4f63-b33e-e9c5e3d8ad09)"
      ]
    },
    {
      "cell_type": "markdown",
      "metadata": {
        "id": "N1Dha-UHCp08"
      },
      "source": [
        "# PRINT()"
      ]
    },
    {
      "cell_type": "markdown",
      "metadata": {
        "id": "R7RmgSwPCp08"
      },
      "source": [
        "Avvalgi darsimizning yakunida bir nechta kodlarni pythonda bajarib ko'rishni vazifa qilgan edik. Keling shu kodlarning natijasini ko'ramiz:"
      ]
    },
    {
      "cell_type": "code",
      "execution_count": null,
      "metadata": {
        "id": "LLcf7jZxCp08",
        "outputId": "8bfd9127-0df8-4217-8769-bf081c0b76c4"
      },
      "outputs": [
        {
          "name": "stdout",
          "output_type": "stream",
          "text": [
            "Assalom alaykum\n"
          ]
        }
      ],
      "source": [
        "print(\"Assalom alaykum\")"
      ]
    },
    {
      "cell_type": "markdown",
      "metadata": {
        "id": "0a-0Ls4FCp09"
      },
      "source": [
        "Kutilganidek, yuqoridagi kod Assalom alaykum matnini konsolda ko'rsatdi. Keling endi keyingi kodni kiritamiz:"
      ]
    },
    {
      "cell_type": "code",
      "execution_count": null,
      "metadata": {
        "id": "vFZm4qepCp09",
        "outputId": "437faa2a-91fe-4ec1-f0d9-b3bf8292cc8c"
      },
      "outputs": [
        {
          "ename": "SyntaxError",
          "evalue": "invalid syntax (<ipython-input-6-57340e294b0a>, line 1)",
          "output_type": "error",
          "traceback": [
            "\u001b[0;36m  File \u001b[0;32m\"<ipython-input-6-57340e294b0a>\"\u001b[0;36m, line \u001b[0;32m1\u001b[0m\n\u001b[0;31m    print(Xayrli tong!)\u001b[0m\n\u001b[0m                 ^\u001b[0m\n\u001b[0;31mSyntaxError\u001b[0m\u001b[0;31m:\u001b[0m invalid syntax\n"
          ]
        }
      ],
      "source": [
        "print(Xayrli tong!)"
      ]
    },
    {
      "cell_type": "markdown",
      "metadata": {
        "id": "SiGEPwnlCp0-"
      },
      "source": [
        "Bu safar esa `Xayrli tong!` yozuvi o'rniga, `Syntax Error` (sinteksda xatolik) xabari chiqdi. Xatolik qayerda?\n",
        "Avval aytganimizdek, `print()` funktsiyasi matn yoki ifodalarni konsolga chiqarish vazifasini bajaradi. Lekin bu funktsiya to'g'ri ishlashi uchun bir nechta qoidalarga amal qilish lozim. Jumladan, agar konsolga matn chiqarmoqchi bo'lsak, matnimiz albatta qo'shtirnoq yoki (`\" \"`) yoki birtirnoq(`' '`) orasida yozlishi kerak. Demak `Xayrli tong!` so'zini konsolda chiqarish uchun to'g'ri kod:"
      ]
    },
    {
      "cell_type": "code",
      "execution_count": null,
      "metadata": {
        "id": "4Nuucz0RCp0-",
        "outputId": "25a35c70-4f1e-451b-d3d7-7d712573b4c7"
      },
      "outputs": [
        {
          "name": "stdout",
          "output_type": "stream",
          "text": [
            "Xayrli tong!\n"
          ]
        }
      ],
      "source": [
        "print(\"Xayrli tong!\")"
      ]
    },
    {
      "cell_type": "markdown",
      "metadata": {
        "id": "rDiuRjm0Cp0-"
      },
      "source": [
        "yoki"
      ]
    },
    {
      "cell_type": "code",
      "execution_count": null,
      "metadata": {
        "id": "fbGEjEBOCp0-",
        "outputId": "e5926b75-8f6c-47f1-b285-5c2da47e2b05"
      },
      "outputs": [
        {
          "name": "stdout",
          "output_type": "stream",
          "text": [
            "Xayrli tong!\n"
          ]
        }
      ],
      "source": [
        "print('Xayrli tong!')"
      ]
    },
    {
      "cell_type": "markdown",
      "metadata": {
        "id": "KuroDZdhCp0-"
      },
      "source": [
        "bo'ladi."
      ]
    },
    {
      "cell_type": "markdown",
      "metadata": {
        "id": "1T7mcLhACp0_"
      },
      "source": [
        "Qo'shitrnoq yoki birtirnoq ishlatishning afzalliklaridan biri, agar siz chiqarmoqchi bo'lgan matnda ikkovidan biri qatnashgan bo'lsa, `print()` funktsyasida ikkinchisidan foydalanasiz. Keling quyidagi misolni ko'ramiz:"
      ]
    },
    {
      "cell_type": "code",
      "execution_count": null,
      "metadata": {
        "id": "vOmj1qYDCp0_",
        "outputId": "d87a2888-0eaf-4b1a-eddd-77a18737c7ea"
      },
      "outputs": [
        {
          "name": "stdout",
          "output_type": "stream",
          "text": [
            "Men \"Dell\" markasidagi noutbuk sotib oldim\n"
          ]
        }
      ],
      "source": [
        "print('Men \"Dell\" markasidagi noutbuk sotib oldim')"
      ]
    },
    {
      "cell_type": "markdown",
      "metadata": {
        "id": "gbPTSluFCp0_"
      },
      "source": [
        "Yuqoridagi matnda `\"Dell\"` so'zi qo'shtirnoq ichida eda. Bu matnni konsolga chiqarish uchun esa, `print()` funktsyasi ichida matnni birtirnoq ichiga oldik.\n",
        "Agar matnni bir necha qatorga bo'lib yozish talab qilinsa, uchtalik qo'shtirnoq (`\"\"\" \"\"\"`) yoki birtirnoqdan (`''' '''`)foydalanish mumkin:"
      ]
    },
    {
      "cell_type": "code",
      "execution_count": null,
      "metadata": {
        "id": "qqFR4EHLCp0_",
        "outputId": "b052e1ba-586c-4a87-e00a-e4a9014b4fc9"
      },
      "outputs": [
        {
          "name": "stdout",
          "output_type": "stream",
          "text": [
            "Odami ersang, demagil odami,\n",
            "Oniki, yo'q xalq g'amidin g'ami\n"
          ]
        }
      ],
      "source": [
        "print(\"\"\"Odami ersang, demagil odami,\n",
        "Oniki, yo'q xalq g'amidin g'ami\"\"\")"
      ]
    },
    {
      "cell_type": "markdown",
      "metadata": {
        "id": "rGr38r6UCp0_"
      },
      "source": [
        "Qatorga bo'lishning yana bir usuli, qator so'nggida `\\n` belgisini qo'yish."
      ]
    },
    {
      "cell_type": "code",
      "execution_count": null,
      "metadata": {
        "id": "oTQrft6jCp0_",
        "outputId": "59f6cf17-5742-4b3e-d358-0a4b40d1d063"
      },
      "outputs": [
        {
          "name": "stdout",
          "output_type": "stream",
          "text": [
            "Odami ersang, demagil odami,\n",
            "Oniki, yo'q xalq g'amidin g'ami\n"
          ]
        }
      ],
      "source": [
        "print(\"Odami ersang, demagil odami,\\nOniki, yo'q xalq g'amidin g'ami\")"
      ]
    },
    {
      "cell_type": "markdown",
      "metadata": {
        "id": "YSpED9pWCp0_"
      },
      "source": [
        "Yuoqridagi matnni birtirnoq orqali ham konsolga chiqarish mumkinmi? Matndagi `yo'q`, `g'am` so'zlaridagi birtirnoqlar bunga to'sqinlik qilmaydimi? Qiladi.\n",
        "Buning oldini olish uchun esa matndagi birtirnoq belgisidan avval `\\` belgisini qo'yish lozim."
      ]
    },
    {
      "cell_type": "code",
      "execution_count": null,
      "metadata": {
        "id": "LAKxaWIlCp0_",
        "outputId": "fef07fb3-d2eb-4f86-8798-5e1eeb079d7f"
      },
      "outputs": [
        {
          "name": "stdout",
          "output_type": "stream",
          "text": [
            "Odami ersang, demagil odami, \n",
            "Oniki, yo'q xalq g'amidin g'ami\n"
          ]
        }
      ],
      "source": [
        "print('Odami ersang, demagil odami, \\nOniki, yo\\'q xalq g\\'amidin g\\'ami')"
      ]
    },
    {
      "cell_type": "markdown",
      "metadata": {
        "id": "5vSGMLqVCp0_"
      },
      "source": [
        "Yuqoridagi kodga e'tibor bergan bo'lsangiz `yo'q` so'zi `yo\\'q` ko'rinishida `g'am` so'zi esa `g\\'am` ko'rinishida yozilgan. Umuman olganda `\\` belgisi har qanday mahsus belgi oldidan qo'yiladi.\n",
        "\n",
        "Agar yuqordagi kodimizda `\\` belgisini ishlatmaganimizda natija qanday bo'lar edi?"
      ]
    },
    {
      "cell_type": "code",
      "execution_count": null,
      "metadata": {
        "id": "_IAgEOtSCp0_",
        "outputId": "2a525d4c-a4fb-40d0-80d2-32bb2eadfff7"
      },
      "outputs": [
        {
          "ename": "SyntaxError",
          "evalue": "invalid syntax (<ipython-input-13-336acdd9db07>, line 1)",
          "output_type": "error",
          "traceback": [
            "\u001b[0;36m  File \u001b[0;32m\"<ipython-input-13-336acdd9db07>\"\u001b[0;36m, line \u001b[0;32m1\u001b[0m\n\u001b[0;31m    print('Odami ersang, demagil odami,\\nOniki, yo'q xalq g'amidin g'ami')\u001b[0m\n\u001b[0m                                                   ^\u001b[0m\n\u001b[0;31mSyntaxError\u001b[0m\u001b[0;31m:\u001b[0m invalid syntax\n"
          ]
        }
      ],
      "source": [
        "print('Odami ersang, demagil odami,\\nOniki, yo'q xalq g'amidin g'ami')"
      ]
    },
    {
      "cell_type": "markdown",
      "metadata": {
        "id": "xyGCb9wCCp0_"
      },
      "source": [
        "Keling shu o'rinda `Syntax Error` (sinteksda xatolik) haqida ham gaplashaylik."
      ]
    },
    {
      "cell_type": "markdown",
      "metadata": {
        "id": "yge-FZnFCp0_"
      },
      "source": [
        "# SINTEKS XATOLIK (SYNTAX ERROR)"
      ]
    },
    {
      "cell_type": "markdown",
      "metadata": {
        "id": "7UPHX2SqCp1A"
      },
      "source": [
        "Har bir tilda orfografik va grammatik qoidalar bo'lgani kabi, dasturlash tillarining ham o'ziga yarasha qonun-qoidalari bor. Bu qoidalar to'plami **sinteks (syntax)** deb ataladi. **Sinteks xatolik** (`Syntax Error`) deb esa shu qoidalarning buzilishiga aytiladi.\n",
        "\n",
        "Misol uchun keraksiz joyda qo'yilgan nuqta, vergul yoki bo'sh joy, shuningdek ma'lum funktsiyalar nomini xato yozish (`print()` o'rniga `prit()`), ochilmay yoki yopilmay qolgan qavs, noo'rin bo'shliq, qolib ketgan kalit so'z (keyword) kabilar ham `Syntax Error` hisoblanadi.\n",
        "\n",
        "`Syntax Error` eng ko'p uchraydigan xatolik bo'lib, Python bunday xatolik bor dasturlarni **bajarmaydi**.\n",
        "\n",
        "Biz darslarimiz davomida turli sinteks qoidalar haqida o'z o'rnida yana to'xtalamiz."
      ]
    },
    {
      "cell_type": "markdown",
      "metadata": {
        "id": "QDafn8vkCp1A"
      },
      "source": [
        "# ARIFMETIK AMALLAR"
      ]
    },
    {
      "cell_type": "markdown",
      "metadata": {
        "id": "GCIkLAS5Cp1A"
      },
      "source": [
        "Amaliyotga qaytamiz, `print()` funktsiyasi nafaqat matn, balki turli ifodalarni ham konsolga chiqaradi.\n",
        "\n",
        "Keling quyidagi kodlarni ham bajaramiz:"
      ]
    },
    {
      "cell_type": "code",
      "execution_count": null,
      "metadata": {
        "id": "iK-sK9JTCp1A",
        "outputId": "1714e4b0-33d6-4c2e-d3da-9b846660590c"
      },
      "outputs": [
        {
          "name": "stdout",
          "output_type": "stream",
          "text": [
            "10\n"
          ]
        }
      ],
      "source": [
        "print(2+4*2)"
      ]
    },
    {
      "cell_type": "markdown",
      "metadata": {
        "id": "xnT3YC3bCp1A"
      },
      "source": [
        "Python arifmetik amallarni bajarishda Matematika qoidalariga amal qiladi:\n",
        "+ Qavs ichidagi amallar qavs ortidagilardan avval bajariladi\n",
        "+ Darajaga oshirish (ildiz chiqarish) ko'paytirish va bo'lishdan avval bajariladi\n",
        "+ Ko'paytirish va bo'lish, qo'shish va ayirishdan avval bajariladi\n",
        "+ Boshqa holatlarda ifodalar chapdan o'ngga qarab bajariladi\n",
        "\n",
        "Yuqoridagi misolda ham avval ko'paytirish (4*2=8), keyin esa qo'shish amali (2+8=10) bajarildi."
      ]
    },
    {
      "cell_type": "code",
      "execution_count": null,
      "metadata": {
        "id": "701EqYn1Cp1A",
        "outputId": "8bb4e9b4-c69d-41d9-f375-ef72616375d0"
      },
      "outputs": [
        {
          "name": "stdout",
          "output_type": "stream",
          "text": [
            "3.8\n"
          ]
        }
      ],
      "source": [
        "print(19/5)"
      ]
    },
    {
      "cell_type": "markdown",
      "metadata": {
        "id": "K3v-dBHFCp1A"
      },
      "source": [
        "Ko'rib turganingizdek, `/` belgisi bo'lish amalini bajaradi va natija har doim o'nlik son ko'rinishida bo'ladi (agarchi bo'lish amali natijasida butun son xosil bo'lsa ham):"
      ]
    },
    {
      "cell_type": "code",
      "execution_count": null,
      "metadata": {
        "id": "0quQ3k5oCp1A",
        "outputId": "345779b3-439c-4a16-bab7-071910767009"
      },
      "outputs": [
        {
          "name": "stdout",
          "output_type": "stream",
          "text": [
            "4.0\n"
          ]
        }
      ],
      "source": [
        "print(20/5)"
      ]
    },
    {
      "cell_type": "markdown",
      "metadata": {
        "id": "SPSQiJ8RCp1A"
      },
      "source": [
        "Bo'lish amalidan butun son ko'rinishidagi natija olish uchun `//` belgisidan foydalanamiz:"
      ]
    },
    {
      "cell_type": "code",
      "execution_count": null,
      "metadata": {
        "id": "MsRAlc9wCp1A",
        "outputId": "2c84e9f8-48e3-4832-eb60-5fa51efda05c"
      },
      "outputs": [
        {
          "name": "stdout",
          "output_type": "stream",
          "text": [
            "4\n"
          ]
        }
      ],
      "source": [
        "print(16//4)"
      ]
    },
    {
      "cell_type": "code",
      "execution_count": null,
      "metadata": {
        "id": "4BXQB0nOCp1A",
        "outputId": "5d6c5f6a-3f64-4bd4-b773-b98342cbb11a"
      },
      "outputs": [
        {
          "name": "stdout",
          "output_type": "stream",
          "text": [
            "3\n"
          ]
        }
      ],
      "source": [
        "print(10//3)"
      ]
    },
    {
      "cell_type": "markdown",
      "metadata": {
        "id": "sKkzbGkfCp1A"
      },
      "source": [
        "Amaliyotimizdagi keyingi kodni ham bajaraylik:"
      ]
    },
    {
      "cell_type": "code",
      "execution_count": null,
      "metadata": {
        "id": "DOKrwLTMCp1A",
        "outputId": "2054cf31-82e3-4e54-ef6e-da948c19d9a7"
      },
      "outputs": [
        {
          "name": "stdout",
          "output_type": "stream",
          "text": [
            "16\n"
          ]
        }
      ],
      "source": [
        "print(2**4)"
      ]
    },
    {
      "cell_type": "markdown",
      "metadata": {
        "id": "pZHr9newCp1A"
      },
      "source": [
        "Yuqoridagi `**` belgisi darajaga oshirishni anglatadi, ya'ni `2**4` ifodasi 2 ning 4-darajasini beradi.\n",
        "\n",
        "Pythonda oddiy arifmetik amallar quyidagi jadvalda berilgan."
      ]
    },
    {
      "cell_type": "markdown",
      "metadata": {
        "id": "aRJ7BXo6Cp1A"
      },
      "source": [
        "Operator | Tavsif | Misol\n",
        "---|---|---\n",
        "`+` | Qo'shish | `5+6=11`\n",
        "`-` | Ayirish | `5-6=-1`\n",
        "`*` | Ko'paytirish | `5*6=30`\n",
        "`/` | Bo'lish | `5/6=0.833333`\n",
        "`//`| Bo'lish va butun qismini olish | `5//6=0`\n",
        "`**`| Exponenta (daraja/ildiz) | `5**6=15625`\n",
        "`%` | Bo'linmaning qoldig'ini olish | `15%6=3`"
      ]
    },
    {
      "cell_type": "markdown",
      "metadata": {
        "id": "OdIt0EsXCp1K"
      },
      "source": [
        "`print()` yordamida matn va ifodalarni jamlab chiqarish ham mumkin. Buning uchun har bir ifoda va matn vergul (`,`) bilan ajratiladi:"
      ]
    },
    {
      "cell_type": "code",
      "execution_count": null,
      "metadata": {
        "id": "BxINSVS6Cp1K",
        "outputId": "68887357-3e31-46a3-95c0-6b3bb4f64ceb"
      },
      "outputs": [
        {
          "name": "stdout",
          "output_type": "stream",
          "text": [
            "To'qqizning kvadrati 81 ga teng\n"
          ]
        }
      ],
      "source": [
        "print(\"To'qqizning kvadrati\", 9**2, \"ga teng\")"
      ]
    },
    {
      "cell_type": "code",
      "execution_count": null,
      "metadata": {
        "id": "umMAE91TCp1L",
        "outputId": "a8320fd1-d6ec-4911-90c5-efb0336b9d93"
      },
      "outputs": [
        {
          "name": "stdout",
          "output_type": "stream",
          "text": [
            "3x3= 9\n"
          ]
        }
      ],
      "source": [
        "print('3x3=',3*3)"
      ]
    },
    {
      "cell_type": "markdown",
      "metadata": {
        "id": "YWOq3yrWCp1L"
      },
      "source": [
        "# IZOHLAR (COMMENTS)"
      ]
    },
    {
      "cell_type": "markdown",
      "metadata": {
        "id": "2w33JkCkCp1L"
      },
      "source": [
        "Yaxshi dasturchilarning odatlaridan biri har qanday kodni izohlar bilan tushuntirib ketish. Izohlar kelajakda o'zimiz uchun ham, boshqalar uchun ham dasturimiz qanday ishlashini tushunishda yordam beradi.\n",
        "\n",
        "Quyidagi ikki misolga e'tibor bering, va ulardan qay biri tushunarliroq ekanini solishtiring"
      ]
    },
    {
      "cell_type": "code",
      "execution_count": null,
      "metadata": {
        "id": "eaWN-b8oCp1L",
        "outputId": "57a61fa4-69b4-482a-d8f5-5e3bf8f4ef1b"
      },
      "outputs": [
        {
          "name": "stdout",
          "output_type": "stream",
          "text": [
            "31.4159\n"
          ]
        }
      ],
      "source": [
        "print(2*5*3.14159)"
      ]
    },
    {
      "cell_type": "code",
      "execution_count": null,
      "metadata": {
        "id": "PlIdnVxdCp1L",
        "outputId": "b35cef13-e3ab-4535-c424-7439460fd012"
      },
      "outputs": [
        {
          "name": "stdout",
          "output_type": "stream",
          "text": [
            "31.4159\n"
          ]
        }
      ],
      "source": [
        "#Radiusi 5 ga teng bo'lgan aylananing uzunligi quyidagicha hisoblanadi\n",
        "print(2*5*3.14159)"
      ]
    },
    {
      "cell_type": "markdown",
      "metadata": {
        "id": "CQ_gXLprCp1L"
      },
      "source": [
        "Yuqoridagi misolda `#` belgisidan keyin yozilgan matn **izoh (comment)** deyiladi.\n",
        "\n",
        "Izoh alohida qatorda yoki qator oxiridan ham yozilishi mumkin. Python `#` dan keyingi har qanday matnni (qator oxirigacha) e'tiborsiz qoldiaradi. `#` dan keyin yozligan kodlar ham bajarilmaydi:"
      ]
    },
    {
      "cell_type": "code",
      "execution_count": null,
      "metadata": {
        "id": "hbwWAZkECp1L",
        "outputId": "ec625099-13da-47fb-a13d-02c886c5a01c"
      },
      "outputs": [
        {
          "name": "stdout",
          "output_type": "stream",
          "text": [
            "Assalom alaykum!\n"
          ]
        }
      ],
      "source": [
        "print(\"Assalom alaykum!\") # Bu matn konsolda chiqadi\n",
        "#Keyingi qator esa bajarilmaydi\n",
        "#print(\"Mening ismim Anvar\")"
      ]
    },
    {
      "cell_type": "markdown",
      "metadata": {
        "id": "hRoVvHmmCp1L"
      },
      "source": [
        "# AMALIYOT"
      ]
    },
    {
      "cell_type": "markdown",
      "metadata": {
        "id": "dcWrAYebCp1L"
      },
      "source": [
        "Quyidagi matnni aynan shunday ko'rinishda konsolda chiqaring:\n",
        "\n",
        "`\"Nexia\", \"Tico\", 'Damas' ko'rganlar qilar havas`\n",
        "\n",
        "Quyidagi misollarga yechimni Pythonda chiqaring. Har bir misoldan avval misol matnini izoh ko'rinishida yozing:\n",
        "1. 5 ning 4-darajasini toping\n",
        "2. 22 ni 4 ga bo'lganda qancha qoldiq qoladi?\n",
        "3. Tomonlari 125 ga teng kvadratning yuzi va perimetrini toping\n",
        "4. Diametri 12 ga teng bo'lgan doiraning yuzini toping  ( $\\pi=3.14$ deb oling)\n",
        "5. Katetlari 6 va 7 bo'lgan to'g'ri burchakli uchburchakning gipotenuzasini toping ([Pifagor teoremasidan](https://fayllar.org/pifagor-teoremasi-va-uning-turli-hil-isbotlari-mavzusida-tajer.html) foydalaning)\n",
        "\n",
        ">#### !! Javoblarni savol va yechim ko'rinishida chiqaring: `5 ning 4-darajasi 625` !!"
      ]
    },
    {
      "cell_type": "code",
      "source": [
        "print('\"Nexia\", \"Tico\", \\'Damas\\' ko\\'rganlar qilar havas')"
      ],
      "metadata": {
        "id": "cPqo1CJWFPaP",
        "outputId": "8bfc680a-a3e9-4f2c-c970-0bdd763b6ba6",
        "colab": {
          "base_uri": "https://localhost:8080/"
        }
      },
      "execution_count": 14,
      "outputs": [
        {
          "output_type": "stream",
          "name": "stdout",
          "text": [
            "\"Nexia\", \"Tico\", 'Damas' ko'rganlar qilar havas\n"
          ]
        }
      ]
    },
    {
      "cell_type": "code",
      "source": [
        "print(\"5 ning 4-darajasi\", 5**4, \"ga teng\")"
      ],
      "metadata": {
        "id": "nHtssyrqCyEm",
        "outputId": "d90f6933-f0bd-4239-a265-86ba15115b1f",
        "colab": {
          "base_uri": "https://localhost:8080/"
        }
      },
      "execution_count": 5,
      "outputs": [
        {
          "output_type": "stream",
          "name": "stdout",
          "text": [
            "5 ning 4-darajasi 625 ga teng\n"
          ]
        }
      ]
    },
    {
      "cell_type": "code",
      "source": [
        "print(\"22 ni 4 ga bo'lganda, qoldiq\", 22%4, \"ga teng\")"
      ],
      "metadata": {
        "id": "LS9MZ0SGDD2G",
        "outputId": "42c80af0-41c1-4e93-aa58-bf3a897851bd",
        "colab": {
          "base_uri": "https://localhost:8080/"
        }
      },
      "execution_count": 8,
      "outputs": [
        {
          "output_type": "stream",
          "name": "stdout",
          "text": [
            "22 ni 4 ga bo'lganda, qoldiq 2 ga teng\n"
          ]
        }
      ]
    },
    {
      "cell_type": "code",
      "source": [
        "print(f\"Tomonlari 125 ga teng kvadratning yuzi {125**2} ga, perimetri {125*4} ga teng\")"
      ],
      "metadata": {
        "id": "k2E79eRqDakH",
        "outputId": "546ab3ca-1941-4c53-b75d-8fbcccf00292",
        "colab": {
          "base_uri": "https://localhost:8080/"
        }
      },
      "execution_count": 9,
      "outputs": [
        {
          "output_type": "stream",
          "name": "stdout",
          "text": [
            "Tomonlari 125 ga teng kvadratning yuzi 15625 ga, perimetri 500 ga teng\n"
          ]
        }
      ]
    },
    {
      "cell_type": "code",
      "source": [
        "print(f\"Diametri 12 ga teng bo'lgan doiraning yuzi {(12/2)**2*3.14} ga teng. (π=3.14)\")"
      ],
      "metadata": {
        "id": "yU6oqKRuD9ru",
        "outputId": "49d8d3b1-a434-45c4-b2c2-8e31146d1426",
        "colab": {
          "base_uri": "https://localhost:8080/"
        }
      },
      "execution_count": 12,
      "outputs": [
        {
          "output_type": "stream",
          "name": "stdout",
          "text": [
            "Diametri 12 ga teng bo'lgan doiraning yuzi 113.04 ga teng. (π=3.14)\n"
          ]
        }
      ]
    },
    {
      "cell_type": "code",
      "source": [
        "print(f\"Katetlari 6 va 7 bo'lgan to'g'ri burchakli uchburchakning gipotenuzasi {round((6**2+7**2)**(1/2),2)} ga teng\")"
      ],
      "metadata": {
        "id": "uOGKsv6BEl1l",
        "outputId": "3546f5f5-12c0-498c-9c95-62dc0d02eac5",
        "colab": {
          "base_uri": "https://localhost:8080/"
        }
      },
      "execution_count": 17,
      "outputs": [
        {
          "output_type": "stream",
          "name": "stdout",
          "text": [
            "Katetlari 6 va 7 bo'lgan to'g'ri burchakli uchburchakning gipotenuzasi 9.22 ga teng\n"
          ]
        }
      ]
    },
    {
      "cell_type": "markdown",
      "metadata": {
        "id": "8WUQSG8uCp1L"
      },
      "source": [
        "# JAVOBLAR"
      ]
    },
    {
      "cell_type": "markdown",
      "metadata": {
        "id": "YUXy4LRKCp1L"
      },
      "source": [
        "**Yuqoridagi misollarni o'zingiz ishlashga harakat qiling, so'ngra quyidagi javoblar bilan solishtiring.**"
      ]
    },
    {
      "cell_type": "code",
      "execution_count": null,
      "metadata": {
        "id": "hBZFw0p0Cp1L",
        "outputId": "25b8dbfb-60d6-4a84-be46-68b22ed8734a"
      },
      "outputs": [
        {
          "name": "stdout",
          "output_type": "stream",
          "text": [
            "\"Nexia\", \"Tico\", 'Damas' ko'rganlar qilar havas\n"
          ]
        }
      ],
      "source": [
        "print(\"\\\"Nexia\\\", \\\"Tico\\\", 'Damas' ko'rganlar qilar havas\")"
      ]
    },
    {
      "cell_type": "code",
      "execution_count": null,
      "metadata": {
        "id": "Cp1QZ6WPCp1L",
        "outputId": "549b9672-af38-4120-9c08-b4ee3836bc32"
      },
      "outputs": [
        {
          "name": "stdout",
          "output_type": "stream",
          "text": [
            "5 ning 4-darajasi 625\n"
          ]
        }
      ],
      "source": [
        "#1 5 ning 4-darajasi\n",
        "print('5 ning 4-darajasi', 5**4)"
      ]
    },
    {
      "cell_type": "code",
      "execution_count": null,
      "metadata": {
        "id": "8zG4VITvCp1M",
        "outputId": "faf5f729-cb32-4521-8aab-3d2bd9ef623e"
      },
      "outputs": [
        {
          "name": "stdout",
          "output_type": "stream",
          "text": [
            "22 ni 4 ga bo'lganda qancha qoldiq 2\n"
          ]
        }
      ],
      "source": [
        "#2 22 ni 4 ga bo'lganda qancha qoldiq qoladi?\n",
        "print(\"22 ni 4 ga bo'lganda qancha qoldiq\", 22%4)"
      ]
    },
    {
      "cell_type": "code",
      "execution_count": null,
      "metadata": {
        "id": "XrZheGYVCp1M",
        "outputId": "609dc79b-9e4a-4b5c-a889-7e9549140b3e"
      },
      "outputs": [
        {
          "name": "stdout",
          "output_type": "stream",
          "text": [
            "Tomonlari 125 ga teng kvadratning yuzi 15625 ga, perimetri 500 teng\n"
          ]
        }
      ],
      "source": [
        "#3 Tomonlari 125 ga teng kvadratning yuzi va perimetrini toping\n",
        "print(\"Tomonlari 125 ga teng kvadratning yuzi\", 125*125, \"ga, perimetri\", 4*125, \"teng\")"
      ]
    },
    {
      "cell_type": "code",
      "execution_count": null,
      "metadata": {
        "id": "Fga3dm5PCp1M",
        "outputId": "0ed09095-d5fd-45a8-c152-3d7fb0fb33a6"
      },
      "outputs": [
        {
          "name": "stdout",
          "output_type": "stream",
          "text": [
            "Diametri 12 ga teng bo'lgan doiraning yuzi 113.04 ga teng\n"
          ]
        }
      ],
      "source": [
        "#4 Diametri 12 ga teng bo'lgan doiraning yuzini toping\n",
        "print('Diametri 12 ga teng bo\\'lgan doiraning yuzi', 3.14*(12/2)**2, 'ga teng')"
      ]
    },
    {
      "cell_type": "code",
      "execution_count": null,
      "metadata": {
        "id": "9OKNgfJXCp1M",
        "outputId": "1e87f954-64fb-44ae-8a5c-ba90ec27d396"
      },
      "outputs": [
        {
          "name": "stdout",
          "output_type": "stream",
          "text": [
            "Katetlari 6 va 7 bo'lgan to'g'ri burchakli uchburchakning gipotenuzasi 9.219544457292887\n"
          ]
        }
      ],
      "source": [
        "#5 Katetlari 6 va 7 bo'lgan to'g'ri burchakli uchburchakning gipotenuzasini toping\n",
        "print(\"Katetlari 6 va 7 bo'lgan to'g'ri burchakli uchburchakning gipotenuzasi\", (6**2+7**2)**(1/2))"
      ]
    },
    {
      "cell_type": "markdown",
      "metadata": {
        "id": "jBivUuRfCp1M"
      },
      "source": [
        "### Quyidagi kodga tegmang.\n",
        "Texnik sozlamalar uchun ishlatiladi!"
      ]
    },
    {
      "cell_type": "code",
      "execution_count": null,
      "metadata": {
        "scrolled": true,
        "id": "p_GVnVkyCp1M"
      },
      "outputs": [],
      "source": [
        "%%capture\n",
        "jovian.commit(project=\"03-python\")"
      ]
    }
  ],
  "metadata": {
    "language_info": {
      "name": "python"
    },
    "colab": {
      "provenance": []
    },
    "kernelspec": {
      "name": "python3",
      "display_name": "Python 3"
    }
  },
  "nbformat": 4,
  "nbformat_minor": 0
}