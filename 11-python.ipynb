{
  "cells": [
    {
      "cell_type": "markdown",
      "metadata": {
        "id": "yewERezULans"
      },
      "source": [
        "# 11-DARS. BIR NECHTA SHARTLARNI TEKSHIRISH\n",
        "`if-elif-else` zanjiri, `and`, `or` operatorlari bilan tanishamiz"
      ]
    },
    {
      "cell_type": "markdown",
      "metadata": {
        "id": "DB_NVOTPLanu"
      },
      "source": [
        "![](https://gblobscdn.gitbook.com/assets%2F-MGbkqs1tROquIT6oqUs%2F-Mc-5yGQPZTBaGoehQdL%2F-Mc-7xpq4Puu3KEjmT0R%2FSD_YT_TG_logo_mini.png?alt=media&token=929fe67b-ec12-4f63-b33e-e9c5e3d8ad09)"
      ]
    },
    {
      "cell_type": "markdown",
      "metadata": {
        "id": "-88E-9p1Lanu"
      },
      "source": [
        "# if-elif-else KETMA-KETLIGI\n",
        "\n",
        "Dastur davomida bir nechta shartni tekshirish talab qilinishi mumkin. Bunday holatda biz `if-elif-else` ketma-ketligidan foydalanamiz. *elif* - else va if so'zalrining jamlanmasi bo'lib, *\"aks holda, agar...\"* deb tarjima qilinadi. Bunday `if` bilan boshlangan ketma-ketlik bir nechta `elif` lardan iborat bo'lishi mumkin.\n",
        "\n",
        "Python avval `if` shartini tekshiradi, shart bajarilmasa `elif` ga o'tadi, birinchi `elif` sharti bajarilmasa keyingi `elif` ga o'tadi va hokazo davom etaveradi.\n",
        "\n",
        "> **Diqqat!** `if-elif-else` ketma-ketlikda biror shart bajarilishi bilan, Python qolgan shartlarni tekshirmaydi.\n",
        "\n",
        "Keling bir misol ko'ramiz. Hayvonot bo'giga kirish quyidagicha belgilangan:\n",
        "- 4 yoshdan kichik bolalarga kirish bepul\n",
        "- 4 yoshdan 12 yoshgacha kirish 5000 so'm\n",
        "- 12 yoshdan kattalarga 10000 so'm\n",
        "\n",
        "Foydalanuvchidan yoshini so'rab, hayvonot bog'iga kirish chiptasi narhini chiqaruvchi dastur yozamiz."
      ]
    },
    {
      "cell_type": "code",
      "execution_count": null,
      "metadata": {
        "id": "ZJPOL7_GLanv",
        "outputId": "4b54ff24-21d5-45cd-90fd-142135223041"
      },
      "outputs": [
        {
          "name": "stdout",
          "output_type": "stream",
          "text": [
            "Yoshingiz nechida? 12\n",
            "Sizga kirish 5000 so'm\n"
          ]
        }
      ],
      "source": [
        "yosh = int(input('Yoshingiz nechida? '))\n",
        "if yosh<=4:\n",
        "    print('Sizga kirish bepul.')\n",
        "elif yosh<=12:\n",
        "    print('Sizga kirish 5000 so\\'m')\n",
        "else:\n",
        "    print('Sizga kirish 10000 so\\'m')"
      ]
    },
    {
      "cell_type": "markdown",
      "metadata": {
        "id": "uMsfRBldLanw"
      },
      "source": [
        "Yuqoridagi kod avval foydalanuvchi yoshini so'raydi. 2-qatorda yosh 4 dan kichik ekanligini tekshiradi. Agar bu shart bajarilsa shartlarni tekshirish shu yerdayoq to'xtaydi va keyingi shartlar tashlab o'tib ketiladi.\n",
        "\n",
        "`Sizga kirish bepul.`\n",
        "\n",
        "Agar `yosh<=4` sharti bajarilmasa, keyingi elif `yosh<=12` sharti tekshiriladi, agar shart bajarilsa quyidagi natija chiqadi:\n",
        "\n",
        "`Sizga kirish 5000 so'm`\n",
        "\n",
        "Agar yuoqridagi ikki shart ham bajarilmasa navbat o'z-o'zidan else bilan kelgan kod bajariladi:\n",
        "\n",
        "`Sizga kirish 10000 so'm`\n",
        "\n",
        "> Kod yozishda yaxshi amaliyotlardan biri, kodlarni qisqa yozish va buyruqlarni qayta-qayta takrorlamaslik. Bu kelajakda kodni o'zgartirishda ham juda qo'l keladi."
      ]
    },
    {
      "cell_type": "code",
      "execution_count": null,
      "metadata": {
        "id": "iqhkC-56Lanx",
        "outputId": "cff49d2f-6e65-4446-d420-c404b7fc7aec"
      },
      "outputs": [
        {
          "name": "stdout",
          "output_type": "stream",
          "text": [
            "Yoshingiz nechida? 8\n",
            "Sizga kirish 5000 so'm\n"
          ]
        }
      ],
      "source": [
        "yosh = int(input('Yoshingiz nechida? '))\n",
        "if yosh<=4:\n",
        "    price = 0\n",
        "elif yosh<=12:\n",
        "    price = 5000\n",
        "else:\n",
        "    price = 10000\n",
        "\n",
        "print(f\"Sizga kirish {price} so'm\")"
      ]
    },
    {
      "cell_type": "markdown",
      "metadata": {
        "id": "8EYLrGveLanx"
      },
      "source": [
        "Avval aytganimizdek,  `if-elif-else` zanjirida bit nechta `elif` lar bo'lishi mumkin. Misol uchun, hayvonot bog'i qariyalar uchun chegirma e'lon qilsa, kodimizni quyidagicha o'zgartirishimiz mumkin:"
      ]
    },
    {
      "cell_type": "code",
      "execution_count": null,
      "metadata": {
        "id": "y99HRbGuLanx",
        "outputId": "21ce3264-8125-4a09-c067-fd1ce728ed0b"
      },
      "outputs": [
        {
          "name": "stdout",
          "output_type": "stream",
          "text": [
            "Yoshingiz nechida? 66\n",
            "Sizga kirish 8000 so'm\n"
          ]
        }
      ],
      "source": [
        "yosh = int(input('Yoshingiz nechida? '))\n",
        "if yosh<=4: # yosh bolalarga bepul\n",
        "    price = 0\n",
        "elif yosh<=12: # 4 dan 12 yoshgacha 5000 so'm\n",
        "    price = 5000\n",
        "elif yosh<65: # 12 dan katta va 65 dan kichiklarga narh 10000 so'm\n",
        "    price = 10000\n",
        "else: # qariyalarga esa 8000 so'm\n",
        "    price = 8000\n",
        "print(f\"Sizga kirish {price} so'm\")"
      ]
    },
    {
      "cell_type": "markdown",
      "metadata": {
        "id": "JWXfQZs9Lany"
      },
      "source": [
        "`if-elif-else` zanjirida ham `else` qismi majburiy emas:"
      ]
    },
    {
      "cell_type": "code",
      "execution_count": null,
      "metadata": {
        "id": "re1ywJSNLany",
        "outputId": "62eadd30-cdef-4660-af32-5ad7490f5e1d"
      },
      "outputs": [
        {
          "name": "stdout",
          "output_type": "stream",
          "text": [
            "Yoshingiz nechida? 70\n",
            "Sizga kirish 8000 so'm\n"
          ]
        }
      ],
      "source": [
        "yosh = int(input('Yoshingiz nechida? '))\n",
        "if yosh<=4:\n",
        "    price = 0\n",
        "elif yosh<=12:\n",
        "    price = 5000\n",
        "elif yosh<65:\n",
        "    price = 10000\n",
        "elif yosh>=65:\n",
        "    price = 8000\n",
        "print(f\"Sizga kirish {price} so'm\")"
      ]
    },
    {
      "cell_type": "markdown",
      "metadata": {
        "id": "56eZ0j40Lany"
      },
      "source": [
        "# `AND`, `OR` OPERATORLARI\n",
        "\n",
        "Yuqorida aytganimizdek, `if-elif-else` zanjirida shartlarning biri bajarilishi bilan, Python qolgan shartlarni tekshirmaydi va ularni bajarmaydi. Lekin ba'zida biz 2 yoki undan ko'p shartlarni tekshirishni talab qilishimiz mumkin, buing uchun `AND` va `OR` operatorlaridan foydalanamiz.\n",
        "\n",
        "## `OR` OPERATORI\n",
        "**OR** ingliz tilidan \"yoki\" deb tarjima qilinadi, va ikki va undan ko'p shartlardan biri bajarilishini tekshirishda ishlatiladi. Quyidagi misolni ko'raylik, foydalanuvchidan hafta kunini so'raymiz va agar kun shanba yoki yakshanba bo'lsa, bugun dam olish kuni degan xabarni chiqaramiz, aks holda bugun ish kuni degan xabarni chiqaramiz:"
      ]
    },
    {
      "cell_type": "code",
      "execution_count": null,
      "metadata": {
        "id": "a8sUhY4CLany",
        "outputId": "5e09f97a-7d31-4c4d-e99f-7c5d2fb40b58"
      },
      "outputs": [
        {
          "name": "stdout",
          "output_type": "stream",
          "text": [
            "Bugun nima kun?>>>shanba\n",
            "Bugun dam olish kuni.\n"
          ]
        }
      ],
      "source": [
        "kun = input(\"Bugun nima kun?>>>\")\n",
        "if kun.lower()=='shanba' or kun.lower()=='yakshanba':\n",
        "    print('Bugun dam olish kuni.')\n",
        "else:\n",
        "    print('Bugun ish kuni.')"
      ]
    },
    {
      "cell_type": "markdown",
      "metadata": {
        "id": "jXZMhI97Lanz"
      },
      "source": [
        "2-qatrodagi **`or`** operatoriga e'tibor qiling, bu operator `kun.lower()=='shanba'` yoki `kun.lower()=='yakshanba'` shartlaridan biri bajarilsa `TRUE` qiymatini qaytaradi"
      ]
    },
    {
      "cell_type": "code",
      "execution_count": null,
      "metadata": {
        "id": "jqY11FJeLanz",
        "outputId": "917451f8-f427-4f7e-e3e0-4474f6f7b387"
      },
      "outputs": [
        {
          "name": "stdout",
          "output_type": "stream",
          "text": [
            "Bugun nima kun?>>>juma\n",
            "Bugun ish kuni.\n"
          ]
        }
      ],
      "source": [
        "kun = input(\"Bugun nima kun?>>>\")\n",
        "if kun.lower()=='shanba' or kun.lower()=='yakshanba':\n",
        "    print('Bugun dam olish kuni.')\n",
        "else:\n",
        "    print('Bugun ish kuni.')"
      ]
    },
    {
      "cell_type": "markdown",
      "metadata": {
        "id": "Z7sFDGEbLanz"
      },
      "source": [
        "## `AND` OPERATORI"
      ]
    },
    {
      "cell_type": "markdown",
      "metadata": {
        "id": "IrcYu2AxLanz"
      },
      "source": [
        "**AND** ingliz tilidan \"va\" deb tarjima qilinadi, va ikki va undan ko'p shartlarning barchasi bajarilishini tekshirishda ishlatiladi. `AND` operatori bilan yozilgan shartlarning barchasi bajarilgandagina `TRUE` qiymati qaytadi, agar shartlardan biri bajarilmay qolsa ham `FALSE` qiymati qaytadi.\n",
        "\n",
        "Quyidagi misolni ko'ramiz:"
      ]
    },
    {
      "cell_type": "code",
      "execution_count": null,
      "metadata": {
        "id": "Tgbn0kIJLanz",
        "outputId": "1024c283-1b25-472b-b808-bea93867379d"
      },
      "outputs": [
        {
          "name": "stdout",
          "output_type": "stream",
          "text": [
            "Bugun nima kun?yakshanba\n",
            "Havo harorati qanday?36\n",
            "Cho'milgani ketdik!\n"
          ]
        }
      ],
      "source": [
        "kun = input(\"Bugun nima kun?\")\n",
        "harorat = float(input(\"Havo harorati qanday?\"))\n",
        "if kun.lower()=='yakshanba' and harorat>=30:\n",
        "    print(\"Cho'milgani ketdik!\")\n",
        "elif kun.lower()=='yakshanba' and harorat<30:\n",
        "    print(\"Uyda dam olamiz!\")"
      ]
    },
    {
      "cell_type": "markdown",
      "metadata": {
        "id": "_fc4K9YGLanz"
      },
      "source": [
        "3-qatordagi and operatori `kun.lower()=='yakshanba'` va `harorat>=30` shartlarining ikkisi ham bajarilgandagina `TRUE` qiymatini qaytaradi, aks holda qiymat `FALSE` bo'ladi."
      ]
    },
    {
      "cell_type": "code",
      "execution_count": null,
      "metadata": {
        "id": "9xKEYRTILanz",
        "outputId": "f496bc9a-03e9-44a0-eee1-8aa25947d11a"
      },
      "outputs": [
        {
          "name": "stdout",
          "output_type": "stream",
          "text": [
            "Bugun nima kun?yakshanba\n",
            "Havo harorati qanday?25\n",
            "Uyda dam olamiz!\n"
          ]
        }
      ],
      "source": [
        "kun = input(\"Bugun nima kun?\")\n",
        "harorat = float(input(\"Havo harorati qanday?\"))\n",
        "if kun.lower()=='yakshanba' and harorat>=30:\n",
        "    print(\"Cho'milgani ketdik!\")\n",
        "elif kun.lower()=='yakshanba' and harorat<30:\n",
        "    print(\"Uyda dam olamiz!\")"
      ]
    },
    {
      "cell_type": "markdown",
      "metadata": {
        "id": "OEZFcWX3Lanz"
      },
      "source": [
        "## BIR NECHTA SHARTLARNI KETMA-KET YOZISH\n",
        "\n",
        "Shartlarni yozishda bir nechta `and` va `or` operatorlarini aralashtirib ham yozish mumkin."
      ]
    },
    {
      "cell_type": "code",
      "execution_count": null,
      "metadata": {
        "id": "KeQsHuPULanz",
        "outputId": "4e20e90f-bc19-463c-ccd7-e10410651d8a"
      },
      "outputs": [
        {
          "name": "stdout",
          "output_type": "stream",
          "text": [
            "Bugun nima kun?shanba\n",
            "Havo harorati qanday?36\n",
            "Cho'milgani ketdik!\n"
          ]
        }
      ],
      "source": [
        "kun = input(\"Bugun nima kun?\")\n",
        "harorat = float(input(\"Havo harorati qanday?\"))\n",
        "if (kun.lower()=='shanba' or kun.lower()=='yakshanba') and harorat>=30:\n",
        "    print(\"Cho'milgani ketdik!\")\n",
        "elif (kun.lower()=='shanba' or kun.lower()=='yakshanba') and harorat<30:\n",
        "    print(\"Uyda dam olamiz!\")"
      ]
    },
    {
      "cell_type": "markdown",
      "metadata": {
        "id": "nTZcl4GiLanz"
      },
      "source": [
        "3-qatorga e'tibor bersangiz biz avval kun shanba yoki yakshanba ekanligini so'ngra haroratni tekshirdik. Bu shart bajarilishi uchun kun shanba yoki yakshanba va harorat 30 dan baland bo'lishi shart."
      ]
    },
    {
      "cell_type": "markdown",
      "metadata": {
        "id": "K__W-0e7Lan0"
      },
      "source": [
        "# BOOLEAN MA'LUMOTLAR TURI"
      ]
    },
    {
      "cell_type": "markdown",
      "metadata": {
        "id": "hddq3O3NLan0"
      },
      "source": [
        "Avvalgi darsimizda biz turli ifodalarni solishtirishda `TRUE` yoki `FALSE` qiymatlari qaytishini ko'rdik. Bu qiymatlar boolean (mantiqiy) qiymatlar deb ataladi, va dasturlashda juda keng qo'llaniladi. Pythonda o'zgaruvchilarda boolean qiymatlarni ham saqlash mumkin.\n",
        "\n",
        "Quyidagi dasturga e'tibor bering. Deylik, restoranimizga kelgan mijoz 15000 so'mlik taom oldi, biz mijoz qo'shimcha choy va salat ham olgan (olmaganiga) qarab ularning narhini ham  yakuniy narhga qo'shishimiz kerak. Mijozning choy yoki salat olgan (olmaganini) biz TRUE va FALSE qiymatlari bilan belgiladik.\n"
      ]
    },
    {
      "cell_type": "code",
      "execution_count": null,
      "metadata": {
        "id": "4oern-7cLan0",
        "outputId": "32acf38e-c244-4606-e22b-9c6a85e4f2d3"
      },
      "outputs": [
        {
          "name": "stdout",
          "output_type": "stream",
          "text": [
            "Jami 20000 so'm\n"
          ]
        }
      ],
      "source": [
        "narh = 15000 # mijoz 15000 so'mga taom oldi.\n",
        "choy = True # mijoz choy ham oldi\n",
        "salat = False # mijoz salat olmadi\n",
        "\n",
        "if choy and salat: # agar mijoz choy ham salat ham olgan bo'lsa\n",
        "    narh = narh + 10000 # narhga 10000 so'm qo'shamiz\n",
        "elif choy or salat: # agar choy yoki salat olgan bo'lsa\n",
        "    narh = narh + 5000 # narhga 5000 so'm qo'shamiz\n",
        "\n",
        "print(f\"Jami {narh} so'm\") # yakuniy narhni chiqaramiz"
      ]
    },
    {
      "cell_type": "markdown",
      "metadata": {
        "id": "xxJyLkVgLan0"
      },
      "source": [
        "E'tibor bering, `choy` va `salat` boolean (mantiqiy) qiymatlar bo'gani uchun, 5 va 7-qatorlarda biz `choy==True` yoki `salat==True` deb yozib o'tirishimiz shart emas.\n",
        "\n",
        "Yuoqirdagi misolda `choy = True` (choy oldi) va `salat = False` (salat olmadi) bo'lgani uchun yakuniy narx `narx+5000=20000` chiqdi.\n",
        "Boolean o'zgaruvchilarni saqlashda `TRUE` va `FALSE` qiymatlari o'rniga `1` va `0` sonlarini ham ishlatish mumkin.\n",
        "\n",
        "# SHARTLARNI KETMA-KET TEKSHIRISH\n",
        "\n",
        "`if-elif-else` zanjirining kamchiligidan biri, shartlardan biri bajarilishi bilan, qolgan shartlar tekshirilmaydi. Shung uchun ba'zida shartlarni ketma ket tekshirish uchun, har bir shartni alohida if bilan ajratish talab qilinishi mumkin.\n",
        "\n",
        "Yuqoridagi misolni kengaytiraylik:"
      ]
    },
    {
      "cell_type": "code",
      "execution_count": null,
      "metadata": {
        "id": "bgd6bYtULan0",
        "outputId": "b01042dd-dc1e-4194-865f-250dddafaf92"
      },
      "outputs": [
        {
          "name": "stdout",
          "output_type": "stream",
          "text": [
            "Mijoz choy oldi.\n",
            "Mijoz non oldi.\n",
            "Mijoz kompot oldi.\n",
            "Jami 25000 so'm\n"
          ]
        }
      ],
      "source": [
        "narh = 15000 # mijoz 15 so'mga ovqat oldi\n",
        "choy = True\n",
        "salat = False\n",
        "non = True\n",
        "kompot = True\n",
        "assorti = False\n",
        "#Quyidagi har bir shart alohida tekshiriladi va bir-biriga bog'liq emas\n",
        "if choy:   # agar choy olsa\n",
        "    print(\"Mijoz choy oldi.\")\n",
        "    narh = narh + 3000\n",
        "if salat:  # agar salat olsa\n",
        "    print(\"Mijoz salat oldi.\")\n",
        "    narh = narh + 5000\n",
        "if non:    # agar non olsa\n",
        "    print(\"Mijoz non oldi.\")\n",
        "    narh = narh + 2000\n",
        "if kompot: # agar kompot olsa\n",
        "    print(\"Mijoz kompot oldi.\")\n",
        "    narh = narh + 5000\n",
        "if assorti: # agar assorti olsa\n",
        "    print(\"Mijoz assorti oldi.\")\n",
        "    narh = narh + 15000\n",
        "\n",
        "print(f\"Jami {narh} so'm\")"
      ]
    },
    {
      "cell_type": "markdown",
      "metadata": {
        "id": "1_jZXhMtLan0"
      },
      "source": [
        "Yuqoridagi dasturda har bir `if` alohida tekshiriladi va avvalgi yoki keyingi `if` ga bog'liq emas.\n",
        "\n",
        "# RO'YXAT TARKIBINI TEKSHIRISH\n",
        "\n",
        "## in OPERATORI\n",
        "\n",
        "`in` operatori yordamida biz ro'yxatning tarkibida ma'lum bir element borligini tekshirishimiz mumkin."
      ]
    },
    {
      "cell_type": "code",
      "execution_count": null,
      "metadata": {
        "id": "e1XC_ss8Lan0",
        "outputId": "2309e545-36b9-45e3-95b3-1393f8543cf8"
      },
      "outputs": [
        {
          "data": {
            "text/plain": [
              "False"
            ]
          },
          "execution_count": 15,
          "metadata": {},
          "output_type": "execute_result"
        }
      ],
      "source": [
        "menu = ['osh','qazonkabob','shashlik','norin','somsa']\n",
        "'manti' in menu # menu da manti bormi?"
      ]
    },
    {
      "cell_type": "code",
      "execution_count": null,
      "metadata": {
        "id": "1wacS1MjLan0",
        "outputId": "280cce13-2c4d-4ace-92c3-a942c86e7a1e"
      },
      "outputs": [
        {
          "data": {
            "text/plain": [
              "True"
            ]
          },
          "execution_count": 16,
          "metadata": {},
          "output_type": "execute_result"
        }
      ],
      "source": [
        "menu = ['osh','qazonkabob','shashlik','norin','somsa']\n",
        "'osh' in menu # menu da osh bormi?"
      ]
    },
    {
      "cell_type": "code",
      "execution_count": null,
      "metadata": {
        "id": "qWh52wzYLan0",
        "outputId": "462e9fc7-971a-446b-ff42-94029a46349f"
      },
      "outputs": [
        {
          "name": "stdout",
          "output_type": "stream",
          "text": [
            "Nima ovqat yeysiz?>>>manti\n",
            "Afsuski bizda bunday ovqat yo'q\n"
          ]
        }
      ],
      "source": [
        "menu = ['osh','qazonkabob','shashlik','norin','somsa']\n",
        "ovqat = input('Nima ovqat yeysiz?>>>')\n",
        "if ovqat.lower() in menu:\n",
        "    print('Buyurtma qabul qilindi.')\n",
        "else:\n",
        "    print('Afsuski bizda bunday ovqat yo\\'q')"
      ]
    },
    {
      "cell_type": "markdown",
      "metadata": {
        "id": "D_ge47WQLan0"
      },
      "source": [
        "## `not in` OPERATORI\n",
        "\n",
        "`not in` operatori yordamida esa biror element ro'yxatda yo'qligini tekshirishimiz mumkin."
      ]
    },
    {
      "cell_type": "code",
      "execution_count": null,
      "metadata": {
        "id": "6dX3EeUTLan0",
        "outputId": "bc9c5f41-c447-4a9a-dbf0-c3bf1708176e"
      },
      "outputs": [
        {
          "data": {
            "text/plain": [
              "True"
            ]
          },
          "execution_count": 18,
          "metadata": {},
          "output_type": "execute_result"
        }
      ],
      "source": [
        "menu = ['osh','qazonkabob','shashlik','norin','somsa']\n",
        "'manti' not in menu # menu da manti yo'qmi?"
      ]
    },
    {
      "cell_type": "code",
      "execution_count": null,
      "metadata": {
        "id": "098KFqA-Lan1",
        "outputId": "ffe513fd-5c2d-4c09-adfb-ef715873820b"
      },
      "outputs": [
        {
          "data": {
            "text/plain": [
              "False"
            ]
          },
          "execution_count": 19,
          "metadata": {},
          "output_type": "execute_result"
        }
      ],
      "source": [
        "menu = ['osh','qazonkabob','shashlik','norin','somsa']\n",
        "'osh' not in menu # menu da osh yo'qmi?"
      ]
    },
    {
      "cell_type": "code",
      "execution_count": null,
      "metadata": {
        "id": "ZkQX49ItLan1",
        "outputId": "1f7254e3-8db7-43b5-eab0-44ce2ac1b99e"
      },
      "outputs": [
        {
          "name": "stdout",
          "output_type": "stream",
          "text": [
            "Nima ovqat yeysiz?>>>lag'mon\n",
            "Afsuski bizda bunday ovqat yo'q\n"
          ]
        }
      ],
      "source": [
        "menu = ['osh','qazonkabob','shashlik','norin','somsa']\n",
        "ovqat = input('Nima ovqat yeysiz?>>>')\n",
        "if ovqat.lower() not in menu:\n",
        "    print('Afsuski bizda bunday ovqat yo\\'q')\n",
        "else:\n",
        "    print('Buyurtma qabul qilindi.')"
      ]
    },
    {
      "cell_type": "markdown",
      "metadata": {
        "id": "8-ZnNAnWLan1"
      },
      "source": [
        "> `not` operatorini boshqa shartlarning oldidan ham qo'yishimiz mumkin. Misol uchun: `if not a==5` ifodasi `if a!=5` ifodasi bilan bir hil natija qaytaradi."
      ]
    },
    {
      "cell_type": "markdown",
      "metadata": {
        "id": "siXZvvr3Lan1"
      },
      "source": [
        "## IKKI RO'YXATNI SOLISHTIRISH\n",
        "\n",
        "Ikki ro'yxatning tarkibi quyidagicha tekshiriladi:"
      ]
    },
    {
      "cell_type": "code",
      "execution_count": null,
      "metadata": {
        "id": "cSP9Dq_SLan1",
        "outputId": "1481018d-7a8c-4a1f-a4a7-d93302bbcadb"
      },
      "outputs": [
        {
          "name": "stdout",
          "output_type": "stream",
          "text": [
            "Menuda osh bor\n",
            "Menuda somsa bor\n",
            "Kechirasiz, menuda manti yo'q\n",
            "Menuda shashlik bor\n"
          ]
        }
      ],
      "source": [
        "menu = ['osh','qazonkabob','shashlik','norin','somsa']\n",
        "buyurtmalar = [\"osh\",\"somsa\",\"manti\", \"shashlik\"]\n",
        "\n",
        "for taom in buyurtmalar:\n",
        "    if taom in menu:\n",
        "        print(f\"Menuda {taom} bor\")\n",
        "    else:\n",
        "        print(f\"Kechirasiz, menuda {taom} yo'q\")"
      ]
    },
    {
      "cell_type": "markdown",
      "metadata": {
        "id": "Z_qXdxFJLan1"
      },
      "source": [
        "## RO'YXAT BO'SH EMASLIGINI TEKSHIRISH\n",
        "\n",
        "Yuqoridagi dasturimizda biz foydalanuvchi buyurtma berdi deb tasavvur qilyapmiz. Lekin foydalanuvchidan bo'sh ro'yxat kelsachi? Demak for tsiklini bajarishdan avval ro'yxat bo'sh emasligiga amin bo'lishimiz kerak. Buning uchun avvalgi kodimizni quyidagicha o'zgartiramiz:"
      ]
    },
    {
      "cell_type": "code",
      "execution_count": null,
      "metadata": {
        "id": "KKFcbTJiLan_",
        "outputId": "de74efb6-3c06-407f-bb99-67524cde6065"
      },
      "outputs": [
        {
          "name": "stdout",
          "output_type": "stream",
          "text": [
            "Menuda osh bor\n",
            "Menuda somsa bor\n",
            "Kechirasiz, menuda manti yo'q\n",
            "Menuda shashlik bor\n"
          ]
        }
      ],
      "source": [
        "menu = ['osh','qazonkabob','shashlik','norin','somsa']\n",
        "buyurtmalar = [\"osh\",\"somsa\",\"manti\", \"shashlik\"]\n",
        "\n",
        "if buyurtmalar: # ro'yxatda biror element bo'lsa bu ifoda TRUE qaytaradi\n",
        "    for taom in buyurtmalar:\n",
        "        if taom in menu:\n",
        "            print(f\"Menuda {taom} bor\")\n",
        "        else:\n",
        "            print(f\"Kechirasiz, menuda {taom} yo'q\")\n",
        "else: # agar ro'yxat bo'sh bo'lsa\n",
        "    print(\"Savatchangiz bo'sh!\")"
      ]
    },
    {
      "cell_type": "markdown",
      "metadata": {
        "id": "MfaR_0XwLan_"
      },
      "source": [
        "Demak `if royxat_nomi:` ifodasi agar ro'yxatda bir dona element bo'lsa ham `TRUE` qiymat qaytaradi, aks holda `FALSE` qiymatini qaytaradi."
      ]
    },
    {
      "cell_type": "markdown",
      "metadata": {
        "id": "WkWmiczQLaoA"
      },
      "source": [
        "# AMALIYOT\n",
        "\n",
        "### Quyidagi dasturlarni alohida fayllarga yozing va bajaring:\n",
        "\n",
        "- Foydalanuvchidan juft son kiritishni so'rang. Agar foydalanuvchi juft son kiritsa \"Rahmat!\", agar toq son kiritsa \"Bu son juft emas\" degan xabarni chiqaring.\n",
        "\n",
        "- Foydalanuvchi yoshini so'rang, va muzeyga kirish uchun chipta narhini quyidagicha chiqaring:\n",
        "    + Agar foydalanuvchi 4 yoshdan kichkina yoki 60 dan katta bo'lsa bepul\n",
        "    + Agar foydalanuvchi 18 dan kichik bo'lsa 10000 so'm\n",
        "    + Agar foydalanuvchi 18 dan katta bo'lsa 20000 so'm\n",
        "\n",
        "- Foydalanuvchidan ikita son kiritishni so'rang, sonlarni solishtiring va ularning teng yoki katta/kichikligi haqida xabarni chiqaring\n",
        "\n",
        "- `mahsulotlar` degan ro'yxat yarating va kamida 10 ta turli mahsulotni kiriting. Yangi, `savat` degan bo'sh ro'yxat yarating va foydalanuvchidan savatga kamida 5 ta mahsulot kiritishni so'rang. Savatdagi elementlarni, `mahsulotlar` ro'yxati bilan solishtiring va qaysi biri ro'yxatda bo'lsa `\"Mahsulot do'konimizda bor\"` aks holda, `\"Mahsulot do'konimizda yo'q\"` degan xabarlarni chiqaring.\n",
        "\n",
        "- Yuqoridagi dasturni quyidagicha o'zgartiring: foydalanuvchidan 5 ta mahsulot kiritishni so'rang. Foydalanuvchi so'ragan va do'konda bor mahsulotlarni yang, bor_mahsulotlar degan ro'yxatga, do'konda yo'q mahsulotlarni esa mavjud_emas degan ro'yxatga qo'shing.  Agar mavjud_emas ro'yxati bo'sh bo'lsa, \"Siz so'ragan barcha mahsulotlar do'konimizda bor\" degan xabarni, aks holda esa \"Quyidagi mahsulotlar do'konimizda yo'q: .....\" degan xabarni chiqaring.\n",
        "\n",
        "- `foydalanuvchilar` degan ro'yxat tuzing, va kamida 5 ta login qo'shing. Foydalanuvchidan yangi login tanlashni so'rang va foydalanuvchi kiritgan loginni `foydalanuvchilar` degan ro'yxatning tarkibi bilan solishtiring. Agar ro'yxatda bunday login mavjud bo'lsa, `\"Login band, yangi login tanlang!\"` aks holda `\"Xush kelibsiz, foydalanuvchi!\"` xabarini chiqaring.\n",
        "\n",
        "- Foydalanuvchidan biror butun son kiritishni so'rang. Foydalanuvchi kiritgan sonni 2 da 10 gacha bo'lgan sonlardan qay biriga qoldiqsiz bo'linishini konsolga chiqaring."
      ]
    },
    {
      "cell_type": "code",
      "source": [
        "x = int(input(\"juft son kiriting: \"))\n",
        "\n",
        "print(\"Raxmat\") if x%2 == 0 else print(\"Bu son juft emas\")"
      ],
      "metadata": {
        "id": "6hN6XIBHTAva",
        "outputId": "22382e40-54ad-45ed-9310-be44821446d5",
        "colab": {
          "base_uri": "https://localhost:8080/"
        }
      },
      "execution_count": 4,
      "outputs": [
        {
          "output_type": "stream",
          "name": "stdout",
          "text": [
            "juft son kiriting: 9\n",
            "Bu son juft emas\n"
          ]
        }
      ]
    },
    {
      "cell_type": "code",
      "source": [
        "age = int(input(\"whats ur age? \"))\n",
        "n = 0\n",
        "\n",
        "if age <= 4 or age >= 60:\n",
        "  n = 0\n",
        "elif age <= 18:\n",
        "  n = 10000\n",
        "else:\n",
        "  n = 20000\n",
        "print(f\"{n} sums for the ticket\")"
      ],
      "metadata": {
        "id": "tklCWUg4TkvR",
        "outputId": "8bf8e9ed-6350-43ca-a0ec-a65615dc79f7",
        "colab": {
          "base_uri": "https://localhost:8080/"
        }
      },
      "execution_count": 10,
      "outputs": [
        {
          "output_type": "stream",
          "name": "stdout",
          "text": [
            "whats ur age? 4\n",
            "0 sums for the ticket\n"
          ]
        }
      ]
    },
    {
      "cell_type": "code",
      "source": [
        "x = int(input(\"enter 1st number: \"))\n",
        "y = int(input(\"enter 2nd number: \"))\n",
        "\n",
        "if x < y:\n",
        "  print(f\"{x} is smaller than {y}\")\n",
        "elif x > y:\n",
        "  print(f\"{x} is bigger than {y}\")\n",
        "else:\n",
        "  print(f\"{x} is equal to {y}\")"
      ],
      "metadata": {
        "id": "8ilT_MB5UswS",
        "outputId": "c2df11e8-4ac4-4fac-fa2d-4523a979e779",
        "colab": {
          "base_uri": "https://localhost:8080/"
        }
      },
      "execution_count": 12,
      "outputs": [
        {
          "output_type": "stream",
          "name": "stdout",
          "text": [
            "enter 1st number: 0\n",
            "enter 2nd number: 0\n",
            "0 is equal to 0\n"
          ]
        }
      ]
    },
    {
      "cell_type": "code",
      "source": [
        "goods = ['un', \"yog'\", \"sovun\", 'tuxum', 'piyoz', 'kartoshka', 'olma', 'banan', 'uzum', 'qovun']\n",
        "backet = []\n",
        "\n",
        "for n in range(5):\n",
        "  backet.append(input(f\"{n+1}-product: \").lower())\n",
        "\n",
        "print(backet, \"\\n\")\n",
        "\n",
        "for good in backet:\n",
        "  if good in goods:\n",
        "    print(f\"{good.capitalize()} do'konimizda bor\")\n",
        "  else:\n",
        "    print(f\"{good.capitalize()} do'konimizda yo'q\")"
      ],
      "metadata": {
        "id": "BerMQvM7Vpvi"
      },
      "execution_count": 17,
      "outputs": []
    },
    {
      "cell_type": "code",
      "source": [
        "goods = ['un', \"yog'\", \"sovun\", 'tuxum', 'piyoz', 'kartoshka', 'olma', 'banan', 'uzum', 'qovun']\n",
        "backet = []\n",
        "not_ing = []\n",
        "ing = []\n",
        "\n",
        "\n",
        "for n in range(5):\n",
        "  backet.append(input(f\"{n+1}-product: \").lower())\n",
        "\n",
        "print(backet, \"\\n\")\n",
        "\n",
        "for good in backet:\n",
        "  if good in goods:\n",
        "    ing.append(good)\n",
        "  else:\n",
        "    not_ing.append(good)\n",
        "\n",
        "if not_ing:\n",
        "  print(\"the following are out of stock:\")\n",
        "  for g in not_ing:\n",
        "    print(g)\n",
        "else:\n",
        "  print(\"all products are available\")"
      ],
      "metadata": {
        "id": "eEKYRrDwYlfj"
      },
      "execution_count": 25,
      "outputs": []
    },
    {
      "cell_type": "code",
      "source": [
        "names = [\"alex\", \"mike\", \"shawn\", \"neal\", \"ben\"]\n",
        "\n",
        "user = input(\"Choose ur username: \").lower()\n",
        "\n",
        "if user in names:\n",
        "  print(f\"The user name {user} is already taken, choose another one!\")\n",
        "else:\n",
        "  print(f\"Welcome, {user}!\")"
      ],
      "metadata": {
        "id": "Ku-ROIuxc5tT"
      },
      "execution_count": 26,
      "outputs": []
    },
    {
      "cell_type": "code",
      "source": [
        "n = int(input(\"Enter a whole number: \"))\n",
        "\n",
        "for a in range(2,11):\n",
        "  if n%a == 0:\n",
        "    print(a)"
      ],
      "metadata": {
        "id": "d0HnODKeebJr",
        "outputId": "bc67d9ec-e558-448e-fc98-9b792dde8744",
        "colab": {
          "base_uri": "https://localhost:8080/"
        }
      },
      "execution_count": 38,
      "outputs": [
        {
          "output_type": "stream",
          "name": "stdout",
          "text": [
            "Enter a whole number: 3\n",
            "3\n"
          ]
        }
      ]
    },
    {
      "cell_type": "markdown",
      "metadata": {
        "id": "X8khtW_7LaoA"
      },
      "source": [
        "# JAVOBLAR"
      ]
    },
    {
      "cell_type": "code",
      "execution_count": null,
      "metadata": {
        "id": "7vhRlWKKLaoA",
        "outputId": "cb49b4af-fdaf-4dd6-a546-beacb3c231a9"
      },
      "outputs": [
        {
          "name": "stdout",
          "output_type": "stream",
          "text": [
            "Juft son kiriting: 4\n",
            "Rahmat!\n"
          ]
        }
      ],
      "source": [
        "son = float(input(\"Juft son kiriting: \"))\n",
        "if son%2:\n",
        "    print('Bu son juft emas.')\n",
        "else:\n",
        "    print(\"Rahmat!\")"
      ]
    },
    {
      "cell_type": "code",
      "execution_count": null,
      "metadata": {
        "id": "rSRwrWOaLaoA",
        "outputId": "5e0a35a2-d7b3-4026-e105-b072a3ff2675"
      },
      "outputs": [
        {
          "name": "stdout",
          "output_type": "stream",
          "text": [
            "Yoshingiz nechida?15\n",
            "Chipta 10000 so'm\n"
          ]
        }
      ],
      "source": [
        "yosh = int(input(\"Yoshingiz nechida?\"))\n",
        "\n",
        "if yosh<=4 or yosh>=60:\n",
        "    narh = 0;\n",
        "elif yosh < 18:\n",
        "    narh = 10000\n",
        "else:\n",
        "    narh = 20000\n",
        "print(f\"Chipta {narh} so'm\")"
      ]
    },
    {
      "cell_type": "code",
      "execution_count": null,
      "metadata": {
        "id": "3ioLD4dMLaoA",
        "outputId": "ddecfbd7-c711-4c01-eb32-f5c6ad7420a6"
      },
      "outputs": [
        {
          "name": "stdout",
          "output_type": "stream",
          "text": [
            "Birinchi sonni kiriting: 12\n",
            "Ikkinchi sonni kiriting: 23\n",
            "12.0<23.0\n"
          ]
        }
      ],
      "source": [
        "x = float(input(\"Birinchi sonni kiriting: \"))\n",
        "y = float(input(\"Ikkinchi sonni kiriting: \"))\n",
        "if x==y:\n",
        "    print(f\"{x}={y}\")\n",
        "elif x<y:\n",
        "    print(f\"{x}<{y}\")\n",
        "else:\n",
        "    print(f\"{x}>{y}\")"
      ]
    },
    {
      "cell_type": "code",
      "execution_count": null,
      "metadata": {
        "id": "SCO_Nx3FLaoA",
        "outputId": "c91161b2-64c1-40f6-fe40-ef729f597539"
      },
      "outputs": [
        {
          "name": "stdout",
          "output_type": "stream",
          "text": [
            "Savatga 1-mahsulotni qo'shing: olma\n",
            "Savatga 2-mahsulotni qo'shing: anor\n",
            "Savatga 3-mahsulotni qo'shing: un\n",
            "Savatga 4-mahsulotni qo'shing: uzum\n",
            "Savatga 5-mahsulotni qo'shing: qovun\n",
            "Do'konimizda olma bor\n",
            "Do'konimizda anor yo'q\n",
            "Do'konimizda un bor\n",
            "Do'konimizda uzum bor\n",
            "Do'konimizda qovun bor\n"
          ]
        }
      ],
      "source": [
        "mahsulotlar = ['un', \"yog'\", \"sovun\", 'tuxum', 'piyoz',\n",
        "               'kartoshka', 'olma', 'banan', 'uzum', 'qovun']\n",
        "\n",
        "\n",
        "savat = []\n",
        "for n in range(5):\n",
        "    savat.append(input(f\"Savatga {n+1}-mahsulotni qo'shing: \"))\n",
        "\n",
        "\n",
        "for mahsulot in savat:\n",
        "    if mahsulot in mahsulotlar:\n",
        "        print(f\"Do'konimizda {mahsulot} bor\")\n",
        "    else:\n",
        "        print(f\"Do'konimizda {mahsulot} yo'q\")"
      ]
    },
    {
      "cell_type": "code",
      "execution_count": null,
      "metadata": {
        "id": "IO7OlLpkLaoA",
        "outputId": "59fe3296-56ad-41c0-976b-7dbe63369fae"
      },
      "outputs": [
        {
          "name": "stdout",
          "output_type": "stream",
          "text": [
            "Savatga 1-mahsulotni qo'shing: olma\n",
            "Savatga 2-mahsulotni qo'shing: anjir\n",
            "Savatga 3-mahsulotni qo'shing: uzum\n",
            "Savatga 4-mahsulotni qo'shing: qovun\n",
            "Savatga 5-mahsulotni qo'shing: un\n",
            "Do'konimizda quyidagi mahsulotlar yo'q:\n",
            "anjir\n"
          ]
        }
      ],
      "source": [
        "mahsulotlar = ['un', \"yog'\", \"sovun\", 'tuxum', 'piyoz',\n",
        "               'kartoshka', 'olma', 'banan', 'uzum', 'qovun']\n",
        "\n",
        "\n",
        "savat = []\n",
        "for n in range(5):\n",
        "    savat.append(input(f\"Savatga {n+1}-mahsulotni qo'shing: \"))\n",
        "\n",
        "bor_mahsulotlar = []\n",
        "mavjud_emas = []\n",
        "for mahsulot in savat:\n",
        "    if mahsulot in mahsulotlar:\n",
        "        bor_mahsulotlar.append(mahsulot)\n",
        "    else:\n",
        "        mavjud_emas.append(mahsulot)\n",
        "\n",
        "if mavjud_emas:\n",
        "  print(f\"Do'konimizda quyidagi mahsulotlar yo'q:\")\n",
        "  for mahsulot in mavjud_emas:\n",
        "    print(mahsulot)\n",
        "else:\n",
        "  print(\"Siz so'ragan barcha mahsulotlar do'konimizda bor\")\n",
        ""
      ]
    },
    {
      "cell_type": "code",
      "execution_count": null,
      "metadata": {
        "id": "3MVLSs04LaoA",
        "outputId": "cedc6797-3542-42b9-c80d-b0b5e0a7ea11"
      },
      "outputs": [
        {
          "name": "stdout",
          "output_type": "stream",
          "text": [
            "Yangi login tanlang: anvar\n",
            "Xush kelibsiz, Anvar!\n"
          ]
        }
      ],
      "source": [
        "users = ['alisher','aziza','yasina','umar']\n",
        "\n",
        "login = input(\"Yangi login tanlang: \")\n",
        "\n",
        "if login.lower() in users:\n",
        "    print('Login band, yangi login tanlang!')\n",
        "else:\n",
        "    print(f\"Xush kelibsiz, {login.title()}!\")"
      ]
    },
    {
      "cell_type": "code",
      "execution_count": null,
      "metadata": {
        "id": "-jbShvCOLaoA",
        "outputId": "68be4bd8-f28c-4406-d510-ba1c142d5038"
      },
      "outputs": [
        {
          "name": "stdout",
          "output_type": "stream",
          "text": [
            "Istalgan butun son kiriting: 45\n",
            "45 soni 3 ga qoldiqsiz bo'linadi\n",
            "45 soni 5 ga qoldiqsiz bo'linadi\n",
            "45 soni 9 ga qoldiqsiz bo'linadi\n"
          ]
        }
      ],
      "source": [
        "son = int(input(\"Istalgan butun son kiriting: \"))\n",
        "\n",
        "for n in range(2,11):\n",
        "    if not (son%n):\n",
        "        print(f\"{son} soni {n} ga qoldiqsiz bo'linadi\")"
      ]
    }
  ],
  "metadata": {
    "language_info": {
      "name": "python"
    },
    "colab": {
      "provenance": []
    },
    "kernelspec": {
      "name": "python3",
      "display_name": "Python 3"
    }
  },
  "nbformat": 4,
  "nbformat_minor": 0
}