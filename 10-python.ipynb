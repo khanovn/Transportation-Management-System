{
  "metadata": {
    "kernelspec": {
      "name": "python3",
      "display_name": "Python 3",
      "language": "python"
    },
    "language_info": {
      "name": "python",
      "version": "3.10.12",
      "mimetype": "text/x-python",
      "codemirror_mode": {
        "name": "ipython",
        "version": 3
      },
      "pygments_lexer": "ipython3",
      "nbconvert_exporter": "python",
      "file_extension": ".py"
    },
    "kaggle": {
      "accelerator": "none",
      "dataSources": [],
      "dockerImageVersionId": 30886,
      "isInternetEnabled": false,
      "language": "python",
      "sourceType": "notebook",
      "isGpuEnabled": false
    },
    "colab": {
      "provenance": []
    }
  },
  "nbformat_minor": 0,
  "nbformat": 4,
  "cells": [
    {
      "cell_type": "markdown",
      "source": [
        "# 10-DARS. `IF-ELSE`\n",
        "\n",
        "Dasturni tarmoqlashni o'rganamiz"
      ],
      "metadata": {
        "id": "2cyvTdeQ8ELK"
      }
    },
    {
      "cell_type": "markdown",
      "source": [
        "![](https://gblobscdn.gitbook.com/assets%2F-MGbkqs1tROquIT6oqUs%2F-Mc-5yGQPZTBaGoehQdL%2F-Mc-7xpq4Puu3KEjmT0R%2FSD_YT_TG_logo_mini.png?alt=media&token=929fe67b-ec12-4f63-b33e-e9c5e3d8ad09)"
      ],
      "metadata": {
        "id": "XnFucCF08ELM"
      }
    },
    {
      "cell_type": "markdown",
      "source": [
        "# TARMOQLANISH\n",
        "\n",
        "Shu vaqtgacha yozgan dasturlarimizga e'tibor bersangiz, dasturimiz yuqoridan pastga qarab qatorma-qator bajarilib keldi. Bu chiziqli dastur deyiladi. Voqelikda esa aksar dasturlar ma'lum bir shart bajarilishi (yoki bajarilmaganiga) ko'ra kodning bir qismidan boshqa qismiga \"sakrab\" o'tishi tabiiy hol. Dasturlashda bu **tarmoqlanish** deb ataladi.\n",
        "\n",
        "![](https://gblobscdn.gitbook.com/assets%2F-MGbkqs1tROquIT6oqUs%2F-MMYB3w5bqcxar0xuzi2%2F-MMcrT4AK37JNwfmXziF%2Ffig1.png?alt=media&token=176c0f12-d46f-43cd-a374-19c69f3caf3a)\n",
        "\n",
        "Ushbu darsimizda biz if operatori yordamida shunday shartlarni yozishni, tekshirishni va tekshiruv natijasiga ko'ra kodning turli qismlarini bajarishni o'rganamiz.\n",
        "\n",
        "# `if` OPERATORI\n",
        "**if** so'zi ingliz tilidan **\"agar\"** deb tarjima qilinadi va deyarli barcha dasturlash tillarida shartlarni yozish uchun foydalaniladi.\n",
        "\n",
        "Keling quyidagi misolni ko'ramiz. Bizda avtolar ro'yxati bor:"
      ],
      "metadata": {
        "id": "_OOTnkvd8ELM"
      }
    },
    {
      "cell_type": "code",
      "source": [
        "avtolar = ['audi','bmw','volvo','kia','hyundai']"
      ],
      "metadata": {
        "id": "hHbCynCf8ELN"
      },
      "outputs": [],
      "execution_count": null
    },
    {
      "cell_type": "markdown",
      "source": [
        "Biz ro'yxatdagi har bil elementni katta harf bilan konsolga chiqarmoqchimiz. Bunda istisno sifatida \"BMW\" mashinasi nomini hamma harflarini katta bilan chiqarishimiz kerak.\n",
        "\n",
        "Demak quyidagi kodni yozamiz:"
      ],
      "metadata": {
        "id": "6fbssuLU8ELO"
      }
    },
    {
      "cell_type": "code",
      "source": [
        "for avto in avtolar: # avtolar ichidadi har bir avto uchun ...\n",
        "    if avto == 'bmw':  # ... agar avto bmw ga teng bo'lsa ...\n",
        "        print(avto.upper()) # avto nomini hamma harflarini katta bilan yoz.\n",
        "    else: # aks holda ...\n",
        "        print(avto.title()) # avto nomini faqat birinchi harfini katta bilann yoz."
      ],
      "metadata": {
        "id": "mWwMrc9r8ELO"
      },
      "outputs": [],
      "execution_count": null
    },
    {
      "cell_type": "markdown",
      "source": [
        "Kodni tahlil qilaylik:\n",
        "- 1-qatorda biz for tsiklini boshladik: *avto ichidagi har bir avto uchun*.\n",
        "- 2-qatorda shart yozdik: agar avto `bmw` ga teng bo'lsa (bu yerda `==` belgisi tenglikni tekshirish belgisi hisoblanadi va **\"avto bmw ga tengmi?\"** deb o'qiladi).\n",
        "- 3-qator yuqoridagi shartning badani hisoblanadi va faqatgina shart bajarilgandagina ishga tushadi va avto nomini hamma harflarini katta bilan yozadi (`.upper()` metodi).\n",
        "- 4-qatorda yana bir yangi operator, `else` bilan tanishamiz. **\"Else\"** ingliz tilidan **\"aks holda\"** deb tarjima qilinadi va `if` sharti bajarilmaganda `else` qismi ichidagi kod bajariladi.\n",
        "- 5-qator esa `else` (aks holda, ya'ni 2- qatordagi shart bajarilmaganda) ishga tushadi va avto nomining faqat birinchi harfini katta bilan yozadi (`.title()` metodi)\n",
        "\n",
        "> **Diqqat!** Shart \"badani\" shartdan biroz o'ngga surib yoziladi (huddi for tsikli kabi). if/else dan keyin kelgan va o'ngga surib yozilgan har bir qator if/else shartining badani hisoblanadi.\n",
        "\n",
        "Yuoqridagi kodni bajaramiz, va natijani ko'ramiz:"
      ],
      "metadata": {
        "id": "Lk9ZdZXg8ELO"
      }
    },
    {
      "cell_type": "code",
      "source": [
        "avtolar = ['audi','bmw','volvo','kia','hyundai']\n",
        "for avto in avtolar: # avtolar ichidadi har bir avto uchun ...\n",
        "    if avto == 'bmw':  # ... agar avto bmw ga teng bo'lsa ...\n",
        "        print(avto.upper()) # avto nomini hamma harflarini katta bilan yoz.\n",
        "    else: # aks holda ...\n",
        "        print(avto.title()) # avto nomini faqat birinchi harfini katta bilan yoz."
      ],
      "metadata": {
        "trusted": true,
        "execution": {
          "iopub.status.busy": "2025-02-09T11:05:08.616817Z",
          "iopub.execute_input": "2025-02-09T11:05:08.617070Z",
          "iopub.status.idle": "2025-02-09T11:05:08.625211Z",
          "shell.execute_reply.started": "2025-02-09T11:05:08.617037Z",
          "shell.execute_reply": "2025-02-09T11:05:08.623836Z"
        },
        "id": "z-L-KVXa8ELP",
        "outputId": "d210d962-5d97-4ab3-fe3b-ccd8e060c378"
      },
      "outputs": [
        {
          "name": "stdout",
          "text": "Audi\nBMW\nVolvo\nKia\nDai\n",
          "output_type": "stream"
        }
      ],
      "execution_count": null
    },
    {
      "cell_type": "markdown",
      "source": [
        "# TRUE/FALSE\n",
        "Yuqorida shartni tekshirish uchun `==` operatoridan foydalandik. Bu operatorni oddiy tilga tarjima qilsak **\"tengmi?\"** degan ma'noni beradi.\n",
        "\n",
        "Agar shartning ikki tarafidagi qiymatlar teng bo'lsa ifoda `TRUE` qiymatini qaytaradi (\"True\" so'zi ingliz tilidan \"haqiqiy\" yoki \"to'g'ri\" deb tarjima qilinadi).\n",
        "\n",
        "Aksincha, qiymatlar tenglik qanoatlantirilmasa, ifoda `FALSE` qiymatini qaytaradi (\"False\" so'zini ingliz tilidan \"yolg'on\" deb tarjima qilsak bo'ladi).\n",
        "\n",
        "Quyidagi misollarga e'tibor bering. Biz `ism` degan o'zgaruvchi yaratdik, va unga `'Ali'` matnini yukladik. Keling endi `==` yordamida `ism` ning qiymatini tekshirib ko'ramiz:"
      ],
      "metadata": {
        "id": "RLPwvVSy8ELP"
      }
    },
    {
      "cell_type": "code",
      "source": [
        "ism='Ali'"
      ],
      "metadata": {
        "id": "iIFYwL8c8ELQ"
      },
      "outputs": [],
      "execution_count": null
    },
    {
      "cell_type": "code",
      "source": [
        "ism=='Ali'"
      ],
      "metadata": {
        "id": "7XVK26M98ELQ",
        "outputId": "f2b0c4b5-f5d7-4569-f36b-2d34d6bc74ba"
      },
      "outputs": [
        {
          "data": {
            "text/plain": [
              "True"
            ]
          },
          "execution_count": 8,
          "metadata": {},
          "output_type": "execute_result"
        }
      ],
      "execution_count": null
    },
    {
      "cell_type": "code",
      "source": [
        "ism=='Vali'"
      ],
      "metadata": {
        "id": "gcx69WUF8ELQ",
        "outputId": "a635973a-0f6a-489c-94af-abe89ad3e4fb"
      },
      "outputs": [
        {
          "data": {
            "text/plain": [
              "False"
            ]
          },
          "execution_count": 9,
          "metadata": {},
          "output_type": "execute_result"
        }
      ],
      "execution_count": null
    },
    {
      "cell_type": "markdown",
      "source": [
        "Ko'rib turganingizdek avval `ism=='Ali'` (ism 'Ali' ga tengmi?) deb so'raganimizda, ifoda `TRUE` (Ha) degan javobni qaytardi, keyin esa `ism=='Vali'` (ism 'Vali' ga tengmi?) deb so'raganimizda esa, ifoda `FALSE` (Yo'q) deb qiymat qaytardi.\n",
        "\n",
        "Demak, `if/else` bog'lamasida, `i`f ning badani ifoda `True` bo'lganda, `else` ning badani esa ifoda `False` bo'lganda bajariladi."
      ],
      "metadata": {
        "id": "rQphMidE8ELQ"
      }
    },
    {
      "cell_type": "markdown",
      "source": [
        "# MATNLARNI SOLISHTIRISH"
      ],
      "metadata": {
        "id": "cPRjkdcp8ELR"
      }
    },
    {
      "cell_type": "markdown",
      "source": [
        "Aksar tizimlar foydalanuvchi kiritgan matnni ma'lum bir ko'rinishga keltirib oladi. Buning sababi, kompyuter uchun `'Ali'`, `'ALI'`, va `'ali'` bu uchta turli hil ism. Ularni solishtirish uchun esa bir ko'rinishga keltirib olish kerak.\n",
        "\n",
        "Tasavvur qiling siz yangi email manzil ochmoqchisiz, va o'zingizga yangi foydalanuvchi ismini tanlashingiz kerak. Kompyuter siz kiritgan foydalanuvchi ismini tizimdagi mavjud foydalanuvchilar bilan solishtiradi va agar ism band bo'lsa sizga boshqa ism tanlashni aytadi. Solishtirish jarayonida esa, siz tanlagan ismni kichik harflarga o'tkazib, boshqa ismlar bilan solishtiradi.\n",
        "\n",
        "![](https://gblobscdn.gitbook.com/assets%2F-MGbkqs1tROquIT6oqUs%2F-MMeP_WLpHkdzcxiw2zi%2F-MMeU64riTA_t65PqoXr%2Fimage.png?alt=media&token=67317e40-bfd0-4173-bd32-3c43d10f7a37)\n",
        "\n",
        "Yuqoridagi misolda, kimdur `anvar@yandex.ru` manzilini band qilgan, agarda men `'Anvar'`, yoki `'ANvar'`, yoki `'ANVAR'` deb login tanlasam ham, `anvar@yandex.ru` band bo'gani sababli men so'ragan loginlar rad qilinaveradi.\n",
        "\n",
        "Xo'sh, turli ko'rinishda yozilgan matnlarni qanday qilib solishtiramiz? Juda oddiy. Matnlarni solishtirishdan avval `.lower()` metodi yordamida kichik harflar ko'rinishiga keltirib olamiz:\n"
      ],
      "metadata": {
        "id": "Y3zPr0uX8ELR"
      }
    },
    {
      "cell_type": "code",
      "source": [
        "ism = 'Ali'\n",
        "ism.lower() == 'ali'"
      ],
      "metadata": {
        "id": "ruFJG1UI8ELR",
        "outputId": "48f36bed-a577-43e7-d4b3-74b0c89fa942"
      },
      "outputs": [
        {
          "data": {
            "text/plain": [
              "True"
            ]
          },
          "execution_count": 10,
          "metadata": {},
          "output_type": "execute_result"
        }
      ],
      "execution_count": null
    },
    {
      "cell_type": "markdown",
      "source": [
        "# QIYMATLARNING TENG EMASLIGINI TEKSHIRISH\n",
        "\n",
        "Agar ikki qiymatning teng emasligini tekshirish talab qilinsa, `!=` operatoridan foydalanilamiz."
      ],
      "metadata": {
        "id": "zLt8_NE78ELR"
      }
    },
    {
      "cell_type": "code",
      "source": [
        "ism = input('Ismingiz nima?\\n>>>') # Foydalanuvchi ismini so'raymiz\n",
        "if ism.lower() != 'ali': # Agar ism Aliga teng bo'lmasa ...\n",
        "    print(f\"Uzr, {ism.title()} biz Alini kutayapmiz.\") # quyidagi xabar chiqadi\n",
        "else:\n",
        "    print(\"Salom, Ali\")"
      ],
      "metadata": {
        "id": "OmGNlPko8ELR",
        "outputId": "9fc84d50-72fd-49a7-d43e-4f1295c46082"
      },
      "outputs": [
        {
          "name": "stdout",
          "output_type": "stream",
          "text": [
            "Ismingiz nima?\n",
            ">>>anvar\n",
            "Uzr, Anvar biz Alini kutayapmiz.\n"
          ]
        }
      ],
      "execution_count": null
    },
    {
      "cell_type": "markdown",
      "source": [
        "Demak yuqoridagi kodning 2-qatorida `ism` ichidagi qiymat `'ali'` ga teng bo'lmasa `\"Uzr, {ism} biz Alini kutyapmiz\"` degan xabarni chiqar dedik. Aks holda (`else`), `\"Salom, Ali\"` degan xabar chiqadi.\n",
        "\n",
        "> Shartlarda `else` qismi bo'lishi majburiy emas. Bunga keyingi bo'limlarda tushunarliroq misollar ko'ramiz."
      ],
      "metadata": {
        "id": "drweilro8ELR"
      }
    },
    {
      "cell_type": "markdown",
      "source": [
        "# SONLARNI SOLISHTIRISH\n",
        "\n",
        "Sonlarni solishtirishda yuqoridagi teng (`==`) va teng emas (`!=`) shartlariga qo'shimcha ravishda quyidagi mantiqiy shartlar ham qo'shiladi:\n",
        "\n",
        "- Kichik: `a<b`\n",
        "- Kichik yoki teng: `a<=b`\n",
        "- Katta: `a>b`\n",
        "- Katta yoki teng: `a>=b`"
      ],
      "metadata": {
        "id": "Xx3dWE7p8ELR"
      }
    },
    {
      "cell_type": "code",
      "source": [
        "javob = float(input(\"12x6 nechiga teng?>>>\"))\n",
        "if javob!=72:\n",
        "    print(\"Javob xato!\")"
      ],
      "metadata": {
        "id": "NB2dXx0k8ELR",
        "outputId": "870d30d8-0a4e-4a4e-87f8-7edfc96a0748"
      },
      "outputs": [
        {
          "name": "stdout",
          "output_type": "stream",
          "text": [
            "12x6 nechiga teng?>>>18\n",
            "Javob xato!\n"
          ]
        }
      ],
      "execution_count": null
    },
    {
      "cell_type": "code",
      "source": [
        "yosh = int(input(\"Yoshingiz nechida?>>>\"))\n",
        "if yosh>=18: # yosh 18 dan katta yoki teng bo'lsa\n",
        "    print('Xush kelibsiz!')\n",
        "else: # ask holda\n",
        "    print('Kirish mumkin emas!')"
      ],
      "metadata": {
        "id": "L8jjvTWm8ELS",
        "outputId": "2949a329-d1b5-4d06-f9f5-57d546a64c03"
      },
      "outputs": [
        {
          "name": "stdout",
          "output_type": "stream",
          "text": [
            "Yoshingiz nechida?>>>22\n",
            "Xush kelibsiz!\n"
          ]
        }
      ],
      "execution_count": null
    },
    {
      "cell_type": "code",
      "source": [
        "login = input(\"Yangi login tanlang:\")\n",
        "if len(login)<=5: # login uzunligini tekshiramiz\n",
        "    print(\"Login 5 harfdan ko'proq bo'lishi shart!\")"
      ],
      "metadata": {
        "id": "aBQlcreX8ELS",
        "outputId": "963aac13-7910-44c6-ac5b-a1f4550ff9d9"
      },
      "outputs": [
        {
          "name": "stdout",
          "output_type": "stream",
          "text": [
            "Yangi login tanlang:akmal\n",
            "Login 5 harfdan ko'proq bo'lishi shart!\n"
          ]
        }
      ],
      "execution_count": null
    },
    {
      "cell_type": "code",
      "source": [
        "yil = int(input(\"Tug'ilgan yilingizni kiriting:\"))\n",
        "if 2020-yil<18: # foydalanuvchining yoshini hisoblaymiz\n",
        "    print(f\"Yoshingiz {2020-yil}da ekan.\")\n",
        "    print(\"Kirish mumkin emas!\")\n",
        "else:\n",
        "    print(\"Xush kelibsiz!\")"
      ],
      "metadata": {
        "id": "UwhXbCCt8ELS",
        "outputId": "32123a32-e095-45c9-cc70-b7fbbd5f139b"
      },
      "outputs": [
        {
          "name": "stdout",
          "output_type": "stream",
          "text": [
            "Tug'ilgan yilingizni kiriting:2007\n",
            "Yoshingiz 13da ekan.\n",
            "Kirish mumkin emas!\n"
          ]
        }
      ],
      "execution_count": null
    },
    {
      "cell_type": "markdown",
      "source": [
        "# BIR QATOR if/else\n",
        "\n",
        "Qisqa kodlar uchun shart va uning badanini 1 qatorga jamlab yozishimiz ham mumkin:\n"
      ],
      "metadata": {
        "id": "CFIBLEzx8ELS"
      }
    },
    {
      "cell_type": "code",
      "source": [
        "yosh = int(input(\"Yoshingiz nechida?>>>\"))\n",
        "if yosh>65: print(\"Siz COVID-19 risk guruhida ekansiz\")"
      ],
      "metadata": {
        "id": "Fu1fU5Js8ELS",
        "outputId": "59e165c9-df44-4194-f929-1b8318879594"
      },
      "outputs": [
        {
          "name": "stdout",
          "output_type": "stream",
          "text": [
            "Yoshingiz nechida?>>>66\n",
            "Siz COVID-19 risk guruhida ekansiz\n"
          ]
        }
      ],
      "execution_count": null
    },
    {
      "cell_type": "code",
      "source": [
        "x, y = 25, 50 # x=25 va y=50\n",
        "print(\"x>y\") if x>y else print(\"x<y\")"
      ],
      "metadata": {
        "id": "UZr9T4At8ELS",
        "outputId": "2b0afb64-3ba5-4404-a019-b32eff66f5b4"
      },
      "outputs": [
        {
          "name": "stdout",
          "output_type": "stream",
          "text": [
            "x<y\n"
          ]
        }
      ],
      "execution_count": null
    },
    {
      "cell_type": "markdown",
      "source": [
        "# AMALIYOT\n",
        "\n",
        "- Yangi `cars = ['toyota', 'mazda', 'hyundai', 'gm', 'kia']` degan ro'yxat tuzing, ro'yxat elementlarining birinchi harfini katta qilib konsolga chqaring. `GM` uchun ikkala harfni katta qiling.\n",
        "- Yuqoridagi mashqni teng emas (`!=`) operatori yordamida bajaring.\n",
        "- Foydalanuvchi login ismini so'rang. Agar login `admin` bo'lsa, `\"Xush kelibsiz, Admin. Foydalanuvchilar ro'yxatini ko'rasizmi?\"` xabarini konsolga chiqaring. Aks holda, `\"Xush kelibsiz, {foydalanuvchi_ismi}!\"`  matnini konsolga chiqaring.\n",
        "- Foydalanuvchidan 2 ta son kiritishni so'rang. Agar ikki son bir-biriga teng bo'lsa, `\"Sonlar teng\"` ekan degan yozuvni konsolga chiqaring.\n",
        "- Foydalanuvchidan istalgan son kiritishni so'rang. Agar son manfiy bo'lsa konsolga `\"Manfiy son\"`, agar musbat bo'lsa `\"Musbat son\"` degan xabarni chiqaring.\n",
        "- Foydalanuvchidan son kiritishni so'rang, agar son musbat bo'lsa uning ildizini hisoblab konsolga chiqaring. Agar son manfiy bo'lsa, `\"Musbat son kiriting\"` degan xabarni chiqaring."
      ],
      "metadata": {
        "id": "wD9INlJn8ELS"
      }
    },
    {
      "cell_type": "code",
      "source": [],
      "metadata": {
        "id": "Wmn1DvnxNXQN"
      },
      "execution_count": null,
      "outputs": []
    },
    {
      "cell_type": "code",
      "source": [
        "cars = ['toyota', 'mazda', 'hyundai', 'gm', 'kia']\n",
        "\n",
        "for car in cars:\n",
        "    if car == \"gm\":\n",
        "        print(car.upper())\n",
        "    else:\n",
        "        print(car.title())"
      ],
      "metadata": {
        "id": "CDdoDA6HL3ej"
      },
      "execution_count": 2,
      "outputs": []
    },
    {
      "cell_type": "code",
      "source": [
        "for car in cars:\n",
        "    if car != \"gm\":\n",
        "        print(car.title())\n",
        "    else:\n",
        "        print(car.upper())"
      ],
      "metadata": {
        "id": "sdvMfH-WL81P",
        "outputId": "f494516d-120e-48a8-f619-fa2c7faeb4cb",
        "colab": {
          "base_uri": "https://localhost:8080/"
        }
      },
      "execution_count": 3,
      "outputs": [
        {
          "output_type": "stream",
          "name": "stdout",
          "text": [
            "Toyota\n",
            "Mazda\n",
            "Hyundai\n",
            "GM\n",
            "Kia\n"
          ]
        }
      ]
    },
    {
      "cell_type": "code",
      "source": [
        "name = input(\"whats ur name?: \")\n",
        "\n",
        "print(\"Xush kelibsiz, Admin. Foydalanuvchilar ro'yxatini ko'rasizmi?\") if name.lower() == \"admin\" else print(f\"Xush kelibsiz, {name}!\")"
      ],
      "metadata": {
        "id": "J8wyFG9yMbQn",
        "outputId": "557ece37-da7d-47fd-9f98-1eba6ab742ba",
        "colab": {
          "base_uri": "https://localhost:8080/"
        }
      },
      "execution_count": 5,
      "outputs": [
        {
          "output_type": "stream",
          "name": "stdout",
          "text": [
            "whats ur name?: mike\n",
            "Xush kelibsiz, mike!\n"
          ]
        }
      ]
    },
    {
      "cell_type": "markdown",
      "source": [
        "# JAVOBLAR"
      ],
      "metadata": {
        "id": "v2HrSaZg8ELT"
      }
    },
    {
      "cell_type": "code",
      "source": [
        "#Yangi cars = ['toyota', 'mazda', 'hyundai', 'gm', 'kia'] degan ro'yxat tuzing, ro'yxat elementlarining birinchi harfini katta qilib konsolga chqaring. GM uchun ikkala harfni katta qiling.\n",
        "cars = ['toyota', 'mazda', 'hyundai', 'gm', 'kia']\n",
        "for car in cars:\n",
        "  if car=='gm':\n",
        "    print(car.upper())\n",
        "  else:\n",
        "    print(car.title())"
      ],
      "metadata": {
        "id": "4eM8vUjB8ELT",
        "outputId": "be807b75-0b20-44ef-c28c-5eefc3d048c6"
      },
      "outputs": [
        {
          "name": "stdout",
          "output_type": "stream",
          "text": [
            "Toyota\n",
            "Mazda\n",
            "Hyundai\n",
            "GM\n",
            "Kia\n"
          ]
        }
      ],
      "execution_count": null
    },
    {
      "cell_type": "code",
      "source": [
        "#Yuqoridagi mashqni teng emas (!=) operatori yordamida bajaring.\n",
        "cars = ['toyota', 'mazda', 'hyundai', 'gm', 'kia']\n",
        "for car in cars:\n",
        "  if car!='gm':\n",
        "    print(car.title())\n",
        "  else:\n",
        "    print(car.upper())"
      ],
      "metadata": {
        "id": "mt1AtYkO8ELT",
        "outputId": "00607976-de2f-4f62-bd0f-5aec188dbd8d"
      },
      "outputs": [
        {
          "name": "stdout",
          "output_type": "stream",
          "text": [
            "Toyota\n",
            "Mazda\n",
            "Hyundai\n",
            "GM\n",
            "Kia\n"
          ]
        }
      ],
      "execution_count": null
    },
    {
      "cell_type": "code",
      "source": [
        "#Foydalanuvchi login ismini so'rang. Agar login admin bo'lsa, \"Xush kelibsiz, Admin. Foydalanuvchilar ro'yxatini ko'rasizmi?\" xabarini konsolga chiqaring. Aks xolda, \"Xush kelibsiz, {foydalanuvchi_ismi}!\" matnini konsolga chiqaring.\n",
        "login = input(\"Login kiriting: \")\n",
        "if login.lower() == 'admin':\n",
        "  print(\"Xush kelibsiz Admin, foydalanuvchilar ro'yxatini ko'rasizmi?\")\n",
        "else:\n",
        "  print(f\"Xush kelibsiz {login.title()}!\")"
      ],
      "metadata": {
        "id": "oCTZZjUy8ELT",
        "outputId": "ed4a6093-4d28-4938-ca27-68f3fdcd6c42"
      },
      "outputs": [
        {
          "name": "stdout",
          "output_type": "stream",
          "text": [
            "Login kiriting: admin\n",
            "Xush kelibsiz Admin, foydalanuvchilar ro'yxatini ko'rasizmi?\n"
          ]
        }
      ],
      "execution_count": null
    },
    {
      "cell_type": "code",
      "source": [
        "#Foydalanuvchidan 2 ta son kiritishni so'rang. Agar ikki son bir-biriga teng bo'lsa, \"Sonlar teng\" ekan degan yozuvni konsolga chiqaring.\n",
        "x = float(input(\"Birinchi sonni kiriting: \"))\n",
        "y = float(input(\"Ikkinchi sonni kiriting:\"))\n",
        "if x==y: print(f\"Sonlar teng: {x}={y}\")"
      ],
      "metadata": {
        "id": "5_QbAqao8ELT",
        "outputId": "eb999475-8490-4499-cd9f-0a9e0d97255b"
      },
      "outputs": [
        {
          "name": "stdout",
          "output_type": "stream",
          "text": [
            "Birinchi sonni kiriting: 12\n",
            "Ikkinchi sonni kiriting:25\n"
          ]
        }
      ],
      "execution_count": null
    },
    {
      "cell_type": "code",
      "source": [
        "#Foydalanuvchidan istalgan son kiritishni so'rang. Agar son manfiy bo'lsa konsolga \"Manfiy son\", agar musbat bo'lsa \"Musbat son\" degan xabarni chiqaring.\n",
        "son = float(input(\"Istalgan son kiriting:\"))\n",
        "print(\"Son manfiy\") if son<0 else print(\"Son musbat\")"
      ],
      "metadata": {
        "id": "gBhamj6_8ELT",
        "outputId": "b5073c51-eca7-493a-d103-09f1d8265bc5"
      },
      "outputs": [
        {
          "name": "stdout",
          "output_type": "stream",
          "text": [
            "Istalgan son kiriting:-25\n",
            "Son manfiy\n"
          ]
        }
      ],
      "execution_count": null
    },
    {
      "cell_type": "code",
      "source": [
        "#Foydalanuvchidan son kiritishni so'rang, agar son musbat bo'lsa uning ildizini hisoblab konsolga chiqaring. Agar son manfiy bo'lsa, \"Musbat son kiriting\" degan xabarni chiqaring.\n",
        "son = float(input('Istalgan son kiriting: '))\n",
        "print(son**(1/2)) if son>0 else print('Musbat son kiriting')"
      ],
      "metadata": {
        "id": "AcvQ_fdR8ELT",
        "outputId": "2f8bf630-7efd-465d-e7f2-166bbb3cd6c7"
      },
      "outputs": [
        {
          "name": "stdout",
          "output_type": "stream",
          "text": [
            "Istalgan son kiriting: 65\n",
            "8.06225774829855\n"
          ]
        }
      ],
      "execution_count": null
    }
  ]
}